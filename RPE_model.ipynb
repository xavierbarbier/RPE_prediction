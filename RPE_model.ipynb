{
  "nbformat": 4,
  "nbformat_minor": 0,
  "metadata": {
    "colab": {
      "name": "RPE_model.ipynb",
      "provenance": [],
      "collapsed_sections": [],
      "toc_visible": true
    },
    "kernelspec": {
      "name": "python3",
      "display_name": "Python 3"
    }
  },
  "cells": [
    {
      "cell_type": "markdown",
      "metadata": {
        "id": "ZSn7OEmV3cog"
      },
      "source": [
        "**Notes**\n",
        "\n",
        "This project was inspired by Patrick Ward in Pacey Performance Podcast #305 .\n",
        "\n",
        "Reference : https://www.youtube.com/watch?v=1tmlVWcRpVM\n",
        "\n",
        "The goal is to build an regression model to predict Rated Perceived Exertion (RPE) score. \n",
        "We will then use predicted score and Statistical Process Contral (SPC) to analyse if actual score is expected or unexpected, based on probabilty. "
      ]
    },
    {
      "cell_type": "markdown",
      "metadata": {
        "id": "EKSnHNZIj3pA"
      },
      "source": [
        "# Loading libraries"
      ]
    },
    {
      "cell_type": "code",
      "metadata": {
        "id": "bUMVe3QIiqQC",
        "outputId": "c9917eeb-8013-42a9-d0a5-39dff82711ae",
        "colab": {
          "base_uri": "https://localhost:8080/",
          "height": 34
        }
      },
      "source": [
        "import pandas as pd\n",
        "import numpy as np\n",
        "import warnings\n",
        "warnings.filterwarnings(\"ignore\")\n",
        "import matplotlib\n",
        "import matplotlib.pyplot as plt\n",
        "import seaborn as sns\n",
        "print(plt.rcParams.get('figure.figsize'))"
      ],
      "execution_count": 1,
      "outputs": [
        {
          "output_type": "stream",
          "text": [
            "[6.0, 4.0]\n"
          ],
          "name": "stdout"
        }
      ]
    },
    {
      "cell_type": "markdown",
      "metadata": {
        "id": "IuoUIavV7mhw"
      },
      "source": [
        "# Loading data"
      ]
    },
    {
      "cell_type": "code",
      "metadata": {
        "id": "UAJS9lJH5H0O",
        "outputId": "c2d797bf-a96d-419c-9071-041957e9f371",
        "colab": {
          "base_uri": "https://localhost:8080/",
          "height": 457
        }
      },
      "source": [
        "# loading data\n",
        "data_full = pd.read_csv('/content/drive/My Drive/consulting/Rugby/GPS/data_full.csv')\n",
        "\n",
        "# looking at first few rows\n",
        "data_full.head()"
      ],
      "execution_count": 2,
      "outputs": [
        {
          "output_type": "execute_result",
          "data": {
            "text/html": [
              "<div>\n",
              "<style scoped>\n",
              "    .dataframe tbody tr th:only-of-type {\n",
              "        vertical-align: middle;\n",
              "    }\n",
              "\n",
              "    .dataframe tbody tr th {\n",
              "        vertical-align: top;\n",
              "    }\n",
              "\n",
              "    .dataframe thead th {\n",
              "        text-align: right;\n",
              "    }\n",
              "</style>\n",
              "<table border=\"1\" class=\"dataframe\">\n",
              "  <thead>\n",
              "    <tr style=\"text-align: right;\">\n",
              "      <th></th>\n",
              "      <th>Athlete</th>\n",
              "      <th>Position</th>\n",
              "      <th>Date</th>\n",
              "      <th>Session</th>\n",
              "      <th>Drill</th>\n",
              "      <th>Weeks</th>\n",
              "      <th>Duration</th>\n",
              "      <th>Day Code</th>\n",
              "      <th>Participation</th>\n",
              "      <th>Squad</th>\n",
              "      <th>S-RPE</th>\n",
              "      <th>RPE</th>\n",
              "      <th>Distance</th>\n",
              "      <th>Distance Zone 1</th>\n",
              "      <th>Distance Zone 2</th>\n",
              "      <th>Distance Zone 3</th>\n",
              "      <th>Distance Zone 4</th>\n",
              "      <th>Distance Zone 5</th>\n",
              "      <th>Distance Zone 6</th>\n",
              "      <th>marche</th>\n",
              "      <th>LSR</th>\n",
              "      <th>HSR</th>\n",
              "      <th>VHSR</th>\n",
              "      <th>Max Speed</th>\n",
              "      <th>M.min</th>\n",
              "      <th>Max HR</th>\n",
              "      <th>Avg HR</th>\n",
              "      <th>HR Exertion</th>\n",
              "      <th>Time in HR Zone 1</th>\n",
              "      <th>Time in HR Zone 2</th>\n",
              "      <th>Time in HR Zone 3</th>\n",
              "      <th>Time in HR Zone 4</th>\n",
              "      <th>Time in HR Zone 5</th>\n",
              "      <th>Time in HR Zone 6</th>\n",
              "      <th>TPS &gt;85%HR</th>\n",
              "      <th>% TPS &gt;85%HR</th>\n",
              "      <th>Speed Exertion</th>\n",
              "      <th>Sprint Count</th>\n",
              "      <th>Accelerations Zone 1</th>\n",
              "      <th>Accelerations Zone 2</th>\n",
              "      <th>...</th>\n",
              "      <th>impact 1 + 2</th>\n",
              "      <th>Impacts Zone 3</th>\n",
              "      <th>Impacts Zone 4</th>\n",
              "      <th>impact 3+ 4</th>\n",
              "      <th>Impacts Zone 5</th>\n",
              "      <th>Impacts Zone 6</th>\n",
              "      <th>impact 5+ 6</th>\n",
              "      <th>Collisions</th>\n",
              "      <th>Running Series</th>\n",
              "      <th>Running Imbalance</th>\n",
              "      <th>Running Imbalance Standard Deviation</th>\n",
              "      <th>Running Symmetry Footstrikes</th>\n",
              "      <th>Metabolic Load Time Zone 1</th>\n",
              "      <th>Metabolic Load Time Zone 2</th>\n",
              "      <th>Metabolic Load Time Zone 3</th>\n",
              "      <th>Metabolic Load Time Zone 4</th>\n",
              "      <th>Metabolic Load Time Zone 5</th>\n",
              "      <th>Metabolic Load (relative)</th>\n",
              "      <th>Metabolic Power Average</th>\n",
              "      <th>High-Metabolic-Power Distance</th>\n",
              "      <th>VHMPD</th>\n",
              "      <th>Equivalent Distance</th>\n",
              "      <th>Metabolic Load Distance Zone 1</th>\n",
              "      <th>Metabolic Load Distance Zone 2</th>\n",
              "      <th>Metabolic Load Distance Zone 3</th>\n",
              "      <th>Metabolic Load Distance Zone 4</th>\n",
              "      <th>Metabolic Load Distance Zone 5</th>\n",
              "      <th>Metabolic Load (absolute)</th>\n",
              "      <th>Temperature</th>\n",
              "      <th>Weather</th>\n",
              "      <th>Grass</th>\n",
              "      <th>Sprint Total Distance</th>\n",
              "      <th>Sum_AD</th>\n",
              "      <th>HSR.min</th>\n",
              "      <th>SpTD.min</th>\n",
              "      <th>Sum_AD.min</th>\n",
              "      <th>Impacts.min</th>\n",
              "      <th>Type</th>\n",
              "      <th>HMPD.min</th>\n",
              "      <th>Sp_acc</th>\n",
              "    </tr>\n",
              "  </thead>\n",
              "  <tbody>\n",
              "    <tr>\n",
              "      <th>0</th>\n",
              "      <td>athlete 1</td>\n",
              "      <td>2è ligne</td>\n",
              "      <td>2014-07-21T00:00:00Z</td>\n",
              "      <td>sep avants j-2 rep</td>\n",
              "      <td>Touche</td>\n",
              "      <td>5</td>\n",
              "      <td>52.38</td>\n",
              "      <td>day 1</td>\n",
              "      <td>Full</td>\n",
              "      <td>Forwards</td>\n",
              "      <td>157.14</td>\n",
              "      <td>3.0</td>\n",
              "      <td>1205.27</td>\n",
              "      <td>751.48</td>\n",
              "      <td>196.96</td>\n",
              "      <td>220.08</td>\n",
              "      <td>36.75</td>\n",
              "      <td>0.00</td>\n",
              "      <td>0.0</td>\n",
              "      <td>751.48</td>\n",
              "      <td>417.04</td>\n",
              "      <td>36.75</td>\n",
              "      <td>0.00</td>\n",
              "      <td>18.72</td>\n",
              "      <td>23.010118</td>\n",
              "      <td>183.0</td>\n",
              "      <td>139.72</td>\n",
              "      <td>152.72</td>\n",
              "      <td>9.29</td>\n",
              "      <td>7.11</td>\n",
              "      <td>16.67</td>\n",
              "      <td>17.36</td>\n",
              "      <td>1.69</td>\n",
              "      <td>0.27</td>\n",
              "      <td>1.96</td>\n",
              "      <td>0.037412</td>\n",
              "      <td>3387.8</td>\n",
              "      <td>0.0</td>\n",
              "      <td>1.0</td>\n",
              "      <td>0.0</td>\n",
              "      <td>...</td>\n",
              "      <td>51.0</td>\n",
              "      <td>15.0</td>\n",
              "      <td>7.0</td>\n",
              "      <td>22.0</td>\n",
              "      <td>2.0</td>\n",
              "      <td>9.0</td>\n",
              "      <td>11.0</td>\n",
              "      <td>0.0</td>\n",
              "      <td>4.0</td>\n",
              "      <td>0.7</td>\n",
              "      <td>6.8</td>\n",
              "      <td>55.0</td>\n",
              "      <td>49.6</td>\n",
              "      <td>2.1</td>\n",
              "      <td>0.5</td>\n",
              "      <td>0.2</td>\n",
              "      <td>0.1</td>\n",
              "      <td>6.9</td>\n",
              "      <td>2.2</td>\n",
              "      <td>134.2</td>\n",
              "      <td>49.3</td>\n",
              "      <td>1481.6</td>\n",
              "      <td>764.5</td>\n",
              "      <td>306.6</td>\n",
              "      <td>84.9</td>\n",
              "      <td>35.9</td>\n",
              "      <td>13.4</td>\n",
              "      <td>750.0</td>\n",
              "      <td>Unknown</td>\n",
              "      <td>Unknown</td>\n",
              "      <td>Unknown</td>\n",
              "      <td>0.0</td>\n",
              "      <td>0.0</td>\n",
              "      <td>0.701604</td>\n",
              "      <td>0.0</td>\n",
              "      <td>0.0</td>\n",
              "      <td>0.171821</td>\n",
              "      <td>Training</td>\n",
              "      <td>2.562047</td>\n",
              "      <td>0.0</td>\n",
              "    </tr>\n",
              "    <tr>\n",
              "      <th>1</th>\n",
              "      <td>athlete 1</td>\n",
              "      <td>2è ligne</td>\n",
              "      <td>2014-07-21T00:00:00Z</td>\n",
              "      <td>coll j-2 rep</td>\n",
              "      <td>Ateliers technique</td>\n",
              "      <td>5</td>\n",
              "      <td>97.65</td>\n",
              "      <td>day 1</td>\n",
              "      <td>Full</td>\n",
              "      <td>Forwards</td>\n",
              "      <td>683.55</td>\n",
              "      <td>7.0</td>\n",
              "      <td>4674.08</td>\n",
              "      <td>2432.61</td>\n",
              "      <td>1065.51</td>\n",
              "      <td>833.21</td>\n",
              "      <td>318.12</td>\n",
              "      <td>24.64</td>\n",
              "      <td>0.0</td>\n",
              "      <td>2432.61</td>\n",
              "      <td>1898.72</td>\n",
              "      <td>342.76</td>\n",
              "      <td>24.64</td>\n",
              "      <td>22.75</td>\n",
              "      <td>47.865643</td>\n",
              "      <td>199.0</td>\n",
              "      <td>143.51</td>\n",
              "      <td>453.83</td>\n",
              "      <td>18.43</td>\n",
              "      <td>12.45</td>\n",
              "      <td>23.05</td>\n",
              "      <td>25.53</td>\n",
              "      <td>16.24</td>\n",
              "      <td>1.95</td>\n",
              "      <td>18.19</td>\n",
              "      <td>0.186278</td>\n",
              "      <td>7030.6</td>\n",
              "      <td>0.0</td>\n",
              "      <td>1.0</td>\n",
              "      <td>0.0</td>\n",
              "      <td>...</td>\n",
              "      <td>250.0</td>\n",
              "      <td>31.0</td>\n",
              "      <td>32.0</td>\n",
              "      <td>63.0</td>\n",
              "      <td>18.0</td>\n",
              "      <td>25.0</td>\n",
              "      <td>43.0</td>\n",
              "      <td>1.0</td>\n",
              "      <td>7.0</td>\n",
              "      <td>2.3</td>\n",
              "      <td>2.9</td>\n",
              "      <td>97.0</td>\n",
              "      <td>54.9</td>\n",
              "      <td>13.7</td>\n",
              "      <td>12.8</td>\n",
              "      <td>6.1</td>\n",
              "      <td>10.1</td>\n",
              "      <td>143.4</td>\n",
              "      <td>24.5</td>\n",
              "      <td>3310.4</td>\n",
              "      <td>2241.9</td>\n",
              "      <td>30881.0</td>\n",
              "      <td>439.4</td>\n",
              "      <td>923.9</td>\n",
              "      <td>1068.5</td>\n",
              "      <td>652.6</td>\n",
              "      <td>1589.3</td>\n",
              "      <td>15631.9</td>\n",
              "      <td>Unknown</td>\n",
              "      <td>Unknown</td>\n",
              "      <td>Unknown</td>\n",
              "      <td>0.0</td>\n",
              "      <td>0.0</td>\n",
              "      <td>3.510087</td>\n",
              "      <td>0.0</td>\n",
              "      <td>0.0</td>\n",
              "      <td>0.256016</td>\n",
              "      <td>Training</td>\n",
              "      <td>33.900666</td>\n",
              "      <td>0.0</td>\n",
              "    </tr>\n",
              "    <tr>\n",
              "      <th>2</th>\n",
              "      <td>athlete 1</td>\n",
              "      <td>2è ligne</td>\n",
              "      <td>2014-07-28T00:00:00Z</td>\n",
              "      <td>sep avants j-3 rep g2</td>\n",
              "      <td>Touche</td>\n",
              "      <td>6</td>\n",
              "      <td>43.85</td>\n",
              "      <td>day 1</td>\n",
              "      <td>Full</td>\n",
              "      <td>Forwards</td>\n",
              "      <td>175.40</td>\n",
              "      <td>4.0</td>\n",
              "      <td>1488.11</td>\n",
              "      <td>916.59</td>\n",
              "      <td>318.01</td>\n",
              "      <td>235.15</td>\n",
              "      <td>18.36</td>\n",
              "      <td>0.00</td>\n",
              "      <td>0.0</td>\n",
              "      <td>916.59</td>\n",
              "      <td>553.16</td>\n",
              "      <td>18.36</td>\n",
              "      <td>0.00</td>\n",
              "      <td>18.47</td>\n",
              "      <td>33.936374</td>\n",
              "      <td>176.0</td>\n",
              "      <td>140.96</td>\n",
              "      <td>124.67</td>\n",
              "      <td>3.47</td>\n",
              "      <td>9.78</td>\n",
              "      <td>16.94</td>\n",
              "      <td>11.16</td>\n",
              "      <td>2.45</td>\n",
              "      <td>0.05</td>\n",
              "      <td>2.50</td>\n",
              "      <td>0.057013</td>\n",
              "      <td>2924.0</td>\n",
              "      <td>0.0</td>\n",
              "      <td>1.0</td>\n",
              "      <td>0.0</td>\n",
              "      <td>...</td>\n",
              "      <td>48.0</td>\n",
              "      <td>10.0</td>\n",
              "      <td>8.0</td>\n",
              "      <td>18.0</td>\n",
              "      <td>2.0</td>\n",
              "      <td>10.0</td>\n",
              "      <td>12.0</td>\n",
              "      <td>0.0</td>\n",
              "      <td>4.0</td>\n",
              "      <td>3.1</td>\n",
              "      <td>2.8</td>\n",
              "      <td>73.0</td>\n",
              "      <td>41.8</td>\n",
              "      <td>1.5</td>\n",
              "      <td>0.4</td>\n",
              "      <td>0.1</td>\n",
              "      <td>0.0</td>\n",
              "      <td>7.2</td>\n",
              "      <td>2.7</td>\n",
              "      <td>103.5</td>\n",
              "      <td>25.5</td>\n",
              "      <td>1547.9</td>\n",
              "      <td>1113.5</td>\n",
              "      <td>271.1</td>\n",
              "      <td>78.0</td>\n",
              "      <td>22.2</td>\n",
              "      <td>3.3</td>\n",
              "      <td>783.5</td>\n",
              "      <td>Unknown</td>\n",
              "      <td>Unknown</td>\n",
              "      <td>Unknown</td>\n",
              "      <td>0.0</td>\n",
              "      <td>0.0</td>\n",
              "      <td>0.418700</td>\n",
              "      <td>0.0</td>\n",
              "      <td>0.0</td>\n",
              "      <td>0.228050</td>\n",
              "      <td>Training</td>\n",
              "      <td>2.360319</td>\n",
              "      <td>0.0</td>\n",
              "    </tr>\n",
              "    <tr>\n",
              "      <th>3</th>\n",
              "      <td>athlete 1</td>\n",
              "      <td>2è ligne</td>\n",
              "      <td>2014-07-28T00:00:00Z</td>\n",
              "      <td>coll j-3 rep</td>\n",
              "      <td>Ateliers technique</td>\n",
              "      <td>6</td>\n",
              "      <td>70.68</td>\n",
              "      <td>day 1</td>\n",
              "      <td>Full</td>\n",
              "      <td>Forwards</td>\n",
              "      <td>353.40</td>\n",
              "      <td>5.0</td>\n",
              "      <td>4382.54</td>\n",
              "      <td>2255.20</td>\n",
              "      <td>1155.82</td>\n",
              "      <td>615.73</td>\n",
              "      <td>261.86</td>\n",
              "      <td>93.92</td>\n",
              "      <td>0.0</td>\n",
              "      <td>2255.20</td>\n",
              "      <td>1771.55</td>\n",
              "      <td>355.78</td>\n",
              "      <td>93.92</td>\n",
              "      <td>23.00</td>\n",
              "      <td>62.005376</td>\n",
              "      <td>178.0</td>\n",
              "      <td>138.38</td>\n",
              "      <td>181.00</td>\n",
              "      <td>11.54</td>\n",
              "      <td>10.87</td>\n",
              "      <td>25.93</td>\n",
              "      <td>21.09</td>\n",
              "      <td>1.19</td>\n",
              "      <td>0.07</td>\n",
              "      <td>1.26</td>\n",
              "      <td>0.017824</td>\n",
              "      <td>5348.2</td>\n",
              "      <td>0.0</td>\n",
              "      <td>1.0</td>\n",
              "      <td>0.0</td>\n",
              "      <td>...</td>\n",
              "      <td>193.0</td>\n",
              "      <td>31.0</td>\n",
              "      <td>36.0</td>\n",
              "      <td>67.0</td>\n",
              "      <td>7.0</td>\n",
              "      <td>11.0</td>\n",
              "      <td>18.0</td>\n",
              "      <td>0.0</td>\n",
              "      <td>2.0</td>\n",
              "      <td>-0.9</td>\n",
              "      <td>1.1</td>\n",
              "      <td>45.0</td>\n",
              "      <td>64.2</td>\n",
              "      <td>3.9</td>\n",
              "      <td>1.7</td>\n",
              "      <td>0.7</td>\n",
              "      <td>0.2</td>\n",
              "      <td>21.3</td>\n",
              "      <td>5.0</td>\n",
              "      <td>577.4</td>\n",
              "      <td>214.5</td>\n",
              "      <td>4584.1</td>\n",
              "      <td>3083.4</td>\n",
              "      <td>721.7</td>\n",
              "      <td>362.9</td>\n",
              "      <td>169.2</td>\n",
              "      <td>45.3</td>\n",
              "      <td>2320.4</td>\n",
              "      <td>Unknown</td>\n",
              "      <td>Unknown</td>\n",
              "      <td>Unknown</td>\n",
              "      <td>0.0</td>\n",
              "      <td>0.0</td>\n",
              "      <td>5.033673</td>\n",
              "      <td>0.0</td>\n",
              "      <td>0.0</td>\n",
              "      <td>0.155631</td>\n",
              "      <td>Training</td>\n",
              "      <td>8.169213</td>\n",
              "      <td>0.0</td>\n",
              "    </tr>\n",
              "    <tr>\n",
              "      <th>4</th>\n",
              "      <td>athlete 1</td>\n",
              "      <td>2è ligne</td>\n",
              "      <td>2014-07-22T00:00:00Z</td>\n",
              "      <td>sep avant j-1 rep</td>\n",
              "      <td>mélée et ballons lents</td>\n",
              "      <td>5</td>\n",
              "      <td>56.20</td>\n",
              "      <td>day 2</td>\n",
              "      <td>Full</td>\n",
              "      <td>Forwards</td>\n",
              "      <td>168.60</td>\n",
              "      <td>3.0</td>\n",
              "      <td>1755.01</td>\n",
              "      <td>1079.84</td>\n",
              "      <td>404.80</td>\n",
              "      <td>262.40</td>\n",
              "      <td>7.97</td>\n",
              "      <td>0.00</td>\n",
              "      <td>0.0</td>\n",
              "      <td>1079.84</td>\n",
              "      <td>667.20</td>\n",
              "      <td>7.97</td>\n",
              "      <td>0.00</td>\n",
              "      <td>18.00</td>\n",
              "      <td>31.227936</td>\n",
              "      <td>206.0</td>\n",
              "      <td>133.06</td>\n",
              "      <td>149.89</td>\n",
              "      <td>19.55</td>\n",
              "      <td>10.80</td>\n",
              "      <td>13.10</td>\n",
              "      <td>10.33</td>\n",
              "      <td>1.75</td>\n",
              "      <td>0.68</td>\n",
              "      <td>2.43</td>\n",
              "      <td>0.043231</td>\n",
              "      <td>3715.6</td>\n",
              "      <td>0.0</td>\n",
              "      <td>1.0</td>\n",
              "      <td>0.0</td>\n",
              "      <td>...</td>\n",
              "      <td>46.0</td>\n",
              "      <td>5.0</td>\n",
              "      <td>10.0</td>\n",
              "      <td>15.0</td>\n",
              "      <td>3.0</td>\n",
              "      <td>5.0</td>\n",
              "      <td>8.0</td>\n",
              "      <td>0.0</td>\n",
              "      <td>2.0</td>\n",
              "      <td>-2.1</td>\n",
              "      <td>1.7</td>\n",
              "      <td>35.0</td>\n",
              "      <td>38.0</td>\n",
              "      <td>5.5</td>\n",
              "      <td>6.5</td>\n",
              "      <td>2.7</td>\n",
              "      <td>3.5</td>\n",
              "      <td>52.4</td>\n",
              "      <td>15.5</td>\n",
              "      <td>1239.4</td>\n",
              "      <td>744.2</td>\n",
              "      <td>11272.6</td>\n",
              "      <td>152.8</td>\n",
              "      <td>362.8</td>\n",
              "      <td>495.2</td>\n",
              "      <td>261.5</td>\n",
              "      <td>482.7</td>\n",
              "      <td>5706.2</td>\n",
              "      <td>Unknown</td>\n",
              "      <td>Unknown</td>\n",
              "      <td>Unknown</td>\n",
              "      <td>0.0</td>\n",
              "      <td>0.0</td>\n",
              "      <td>0.141815</td>\n",
              "      <td>0.0</td>\n",
              "      <td>0.0</td>\n",
              "      <td>0.088968</td>\n",
              "      <td>Training</td>\n",
              "      <td>22.053381</td>\n",
              "      <td>0.0</td>\n",
              "    </tr>\n",
              "  </tbody>\n",
              "</table>\n",
              "<p>5 rows × 89 columns</p>\n",
              "</div>"
            ],
            "text/plain": [
              "     Athlete  Position                  Date  ...      Type   HMPD.min  Sp_acc\n",
              "0  athlete 1  2è ligne  2014-07-21T00:00:00Z  ...  Training   2.562047     0.0\n",
              "1  athlete 1  2è ligne  2014-07-21T00:00:00Z  ...  Training  33.900666     0.0\n",
              "2  athlete 1  2è ligne  2014-07-28T00:00:00Z  ...  Training   2.360319     0.0\n",
              "3  athlete 1  2è ligne  2014-07-28T00:00:00Z  ...  Training   8.169213     0.0\n",
              "4  athlete 1  2è ligne  2014-07-22T00:00:00Z  ...  Training  22.053381     0.0\n",
              "\n",
              "[5 rows x 89 columns]"
            ]
          },
          "metadata": {
            "tags": []
          },
          "execution_count": 2
        }
      ]
    },
    {
      "cell_type": "code",
      "metadata": {
        "id": "mHNMuKcslFA3",
        "outputId": "71c9a2a5-ecbd-428f-cbf3-a62d561527fc",
        "colab": {
          "base_uri": "https://localhost:8080/",
          "height": 34
        }
      },
      "source": [
        "# looking at data shape\n",
        "data_full.shape"
      ],
      "execution_count": 3,
      "outputs": [
        {
          "output_type": "execute_result",
          "data": {
            "text/plain": [
              "(2188, 89)"
            ]
          },
          "metadata": {
            "tags": []
          },
          "execution_count": 3
        }
      ]
    },
    {
      "cell_type": "code",
      "metadata": {
        "id": "NaDLAzuklFA6",
        "outputId": "6e1148c3-0ae7-47e7-db80-d1b9156f3560",
        "colab": {
          "base_uri": "https://localhost:8080/",
          "height": 1000
        }
      },
      "source": [
        "# Getting features infos\n",
        "data_full.info()"
      ],
      "execution_count": 4,
      "outputs": [
        {
          "output_type": "stream",
          "text": [
            "<class 'pandas.core.frame.DataFrame'>\n",
            "RangeIndex: 2188 entries, 0 to 2187\n",
            "Data columns (total 89 columns):\n",
            " #   Column                                Non-Null Count  Dtype  \n",
            "---  ------                                --------------  -----  \n",
            " 0   Athlete                               2188 non-null   object \n",
            " 1   Position                              2188 non-null   object \n",
            " 2   Date                                  2188 non-null   object \n",
            " 3   Session                               2188 non-null   object \n",
            " 4   Drill                                 2188 non-null   object \n",
            " 5   Weeks                                 2188 non-null   int64  \n",
            " 6   Duration                              2188 non-null   float64\n",
            " 7   Day Code                              2188 non-null   object \n",
            " 8   Participation                         2188 non-null   object \n",
            " 9   Squad                                 2188 non-null   object \n",
            " 10  S-RPE                                 2188 non-null   float64\n",
            " 11  RPE                                   2188 non-null   float64\n",
            " 12  Distance                              2188 non-null   float64\n",
            " 13  Distance Zone 1                       2188 non-null   float64\n",
            " 14  Distance Zone 2                       2188 non-null   float64\n",
            " 15  Distance Zone 3                       2188 non-null   float64\n",
            " 16  Distance Zone 4                       2188 non-null   float64\n",
            " 17  Distance Zone 5                       2188 non-null   float64\n",
            " 18  Distance Zone 6                       2188 non-null   float64\n",
            " 19  marche                                2188 non-null   float64\n",
            " 20  LSR                                   2188 non-null   float64\n",
            " 21  HSR                                   2188 non-null   float64\n",
            " 22  VHSR                                  2188 non-null   float64\n",
            " 23  Max Speed                             2188 non-null   float64\n",
            " 24  M.min                                 2188 non-null   float64\n",
            " 25  Max HR                                2188 non-null   float64\n",
            " 26  Avg HR                                2188 non-null   float64\n",
            " 27  HR Exertion                           2188 non-null   float64\n",
            " 28  Time in HR Zone 1                     2188 non-null   float64\n",
            " 29  Time in HR Zone 2                     2188 non-null   float64\n",
            " 30  Time in HR Zone 3                     2188 non-null   float64\n",
            " 31  Time in HR Zone 4                     2188 non-null   float64\n",
            " 32  Time in HR Zone 5                     2188 non-null   float64\n",
            " 33  Time in HR Zone 6                     2188 non-null   float64\n",
            " 34  TPS >85%HR                            2188 non-null   float64\n",
            " 35  % TPS >85%HR                          2188 non-null   float64\n",
            " 36  Speed Exertion                        2188 non-null   float64\n",
            " 37  Sprint Count                          2188 non-null   float64\n",
            " 38  Accelerations Zone 1                  2188 non-null   float64\n",
            " 39  Accelerations Zone 2                  2188 non-null   float64\n",
            " 40  Accelerations Zone 3                  2188 non-null   float64\n",
            " 41  Acc >2,5m/s²                          2188 non-null   float64\n",
            " 42  Decelerations Zone 1                  2188 non-null   float64\n",
            " 43  Decelerations Zone 2                  2188 non-null   float64\n",
            " 44  Decelerations Zone 3                  2188 non-null   float64\n",
            " 45  Dec <-2,5m/s²                         2188 non-null   float64\n",
            " 46  New Bodyload                          2188 non-null   float64\n",
            " 47  Impacts Zone 1                        2188 non-null   float64\n",
            " 48  Impacts Zone 2                        2188 non-null   float64\n",
            " 49  impact 1 + 2                          2188 non-null   float64\n",
            " 50  Impacts Zone 3                        2188 non-null   float64\n",
            " 51  Impacts Zone 4                        2188 non-null   float64\n",
            " 52  impact 3+ 4                           2188 non-null   float64\n",
            " 53  Impacts Zone 5                        2188 non-null   float64\n",
            " 54  Impacts Zone 6                        2188 non-null   float64\n",
            " 55  impact 5+ 6                           2188 non-null   float64\n",
            " 56  Collisions                            2188 non-null   float64\n",
            " 57  Running Series                        2188 non-null   float64\n",
            " 58  Running Imbalance                     2188 non-null   float64\n",
            " 59  Running Imbalance Standard Deviation  2188 non-null   float64\n",
            " 60  Running Symmetry Footstrikes          2188 non-null   float64\n",
            " 61  Metabolic Load Time Zone 1            2188 non-null   float64\n",
            " 62  Metabolic Load Time Zone 2            2188 non-null   float64\n",
            " 63  Metabolic Load Time Zone 3            2188 non-null   float64\n",
            " 64  Metabolic Load Time Zone 4            2188 non-null   float64\n",
            " 65  Metabolic Load Time Zone 5            2188 non-null   float64\n",
            " 66  Metabolic Load (relative)             2188 non-null   float64\n",
            " 67  Metabolic Power Average               2188 non-null   float64\n",
            " 68  High-Metabolic-Power Distance         2188 non-null   float64\n",
            " 69  VHMPD                                 2188 non-null   float64\n",
            " 70  Equivalent Distance                   2188 non-null   float64\n",
            " 71  Metabolic Load Distance Zone 1        2188 non-null   float64\n",
            " 72  Metabolic Load Distance Zone 2        2188 non-null   float64\n",
            " 73  Metabolic Load Distance Zone 3        2188 non-null   float64\n",
            " 74  Metabolic Load Distance Zone 4        2188 non-null   float64\n",
            " 75  Metabolic Load Distance Zone 5        2188 non-null   float64\n",
            " 76  Metabolic Load (absolute)             2188 non-null   float64\n",
            " 77  Temperature                           2188 non-null   object \n",
            " 78  Weather                               2188 non-null   object \n",
            " 79  Grass                                 2188 non-null   object \n",
            " 80  Sprint Total Distance                 2188 non-null   float64\n",
            " 81  Sum_AD                                2188 non-null   float64\n",
            " 82  HSR.min                               2188 non-null   float64\n",
            " 83  SpTD.min                              2188 non-null   float64\n",
            " 84  Sum_AD.min                            2188 non-null   float64\n",
            " 85  Impacts.min                           2188 non-null   float64\n",
            " 86  Type                                  2188 non-null   object \n",
            " 87  HMPD.min                              2188 non-null   float64\n",
            " 88  Sp_acc                                2188 non-null   float64\n",
            "dtypes: float64(76), int64(1), object(12)\n",
            "memory usage: 1.5+ MB\n"
          ],
          "name": "stdout"
        }
      ]
    },
    {
      "cell_type": "code",
      "metadata": {
        "id": "8iXFEpfwlFA9",
        "outputId": "de953ba7-d9a3-4a6e-a577-68adce5e9cd9",
        "colab": {
          "base_uri": "https://localhost:8080/",
          "height": 34
        }
      },
      "source": [
        "# Checking number of missing values\n",
        "data_full.isna().sum().sum()"
      ],
      "execution_count": 5,
      "outputs": [
        {
          "output_type": "execute_result",
          "data": {
            "text/plain": [
              "0"
            ]
          },
          "metadata": {
            "tags": []
          },
          "execution_count": 5
        }
      ]
    },
    {
      "cell_type": "markdown",
      "metadata": {
        "id": "TZENfbIp8C_J"
      },
      "source": [
        "# Data cleaning"
      ]
    },
    {
      "cell_type": "markdown",
      "metadata": {
        "id": "N5H7FW0Ul2JV"
      },
      "source": [
        "Now we want to :\n",
        "- remove game data\n",
        "- correct typing erorrs in categorical variables\n",
        "- drop unused variables\n"
      ]
    },
    {
      "cell_type": "code",
      "metadata": {
        "id": "m1QH8yjC_sql"
      },
      "source": [
        "# Rounding RPE scores\n",
        "data_full[\"RPE\"] = np.round(data_full[\"RPE\"],0)"
      ],
      "execution_count": 6,
      "outputs": []
    },
    {
      "cell_type": "code",
      "metadata": {
        "id": "EErTJeKie_Jp",
        "outputId": "ffc4d4fe-1fb7-40f2-ccfc-61749d82a53e",
        "colab": {
          "base_uri": "https://localhost:8080/",
          "height": 51
        }
      },
      "source": [
        "# Looking at Day Code values\n",
        "pd.unique(data_full[\"Day Code\"])"
      ],
      "execution_count": 7,
      "outputs": [
        {
          "output_type": "execute_result",
          "data": {
            "text/plain": [
              "array(['day 1', 'day 2', 'Game -1', 'Game -2', 'day 6', 'day 3',\n",
              "       'Game -3', 'Game day', 'day 4', 'day 5', 'day 7'], dtype=object)"
            ]
          },
          "metadata": {
            "tags": []
          },
          "execution_count": 7
        }
      ]
    },
    {
      "cell_type": "code",
      "metadata": {
        "id": "XTsmbFKWfQYJ"
      },
      "source": [
        "# Removing game data\n",
        "data = data_full[(data_full[\"Day Code\"]!= \"Game day\") & (data_full[\"Day Code\"]!= \"Game\" )]\n",
        "\n",
        "# Dropping non usefull features\n",
        "data = data.drop([\"Session\", \"Drill\",\"Weeks\", \"Day Code\",\"Participation\", \"Type\",\"S-RPE\"], axis = 1)"
      ],
      "execution_count": 8,
      "outputs": []
    },
    {
      "cell_type": "code",
      "metadata": {
        "id": "JjK7ey1QGbop",
        "outputId": "6ad82eb9-fca4-4ed8-d5e1-00e93ea6fab4",
        "colab": {
          "base_uri": "https://localhost:8080/",
          "height": 68
        }
      },
      "source": [
        "# Checking Weather feature values \n",
        "pd.unique(data[\"Weather\"])"
      ],
      "execution_count": 9,
      "outputs": [
        {
          "output_type": "execute_result",
          "data": {
            "text/plain": [
              "array(['Unknown', 'sun', 'rain', 'cloud', 'good', 'little rain',\n",
              "       'field good', 'could', 'light rain', 'Sun', 'litlle rain'],\n",
              "      dtype=object)"
            ]
          },
          "metadata": {
            "tags": []
          },
          "execution_count": 9
        }
      ]
    },
    {
      "cell_type": "code",
      "metadata": {
        "id": "PKpCSK3uG86N"
      },
      "source": [
        "# Correcting typing errors\n",
        "data[\"Weather\"] = data[\"Weather\"].str.lower()\n",
        "data[\"Weather\"]= data[\"Weather\"].replace('litlle rain', 'little rain') \n"
      ],
      "execution_count": 10,
      "outputs": []
    },
    {
      "cell_type": "code",
      "metadata": {
        "id": "N4VYTep1I524",
        "outputId": "f55897fe-2311-4d2d-9997-62195373b651",
        "colab": {
          "base_uri": "https://localhost:8080/",
          "height": 51
        }
      },
      "source": [
        "# Checking Grass feature values \n",
        "pd.unique(data[\"Grass\"])"
      ],
      "execution_count": 11,
      "outputs": [
        {
          "output_type": "execute_result",
          "data": {
            "text/plain": [
              "array(['Unknown', 'pelous grasse', 'grasse', 'pelouse grasse', 'gelée'],\n",
              "      dtype=object)"
            ]
          },
          "metadata": {
            "tags": []
          },
          "execution_count": 11
        }
      ]
    },
    {
      "cell_type": "code",
      "metadata": {
        "id": "QeNRMbiaJA_2"
      },
      "source": [
        "# Correcting typing errors\n",
        "data[\"Grass\"]= data[\"Grass\"].replace('pelous grasse', 'grasse') \n",
        "data[\"Grass\"]= data[\"Grass\"].replace('pelouse grasse', 'grasse') "
      ],
      "execution_count": 12,
      "outputs": []
    },
    {
      "cell_type": "code",
      "metadata": {
        "id": "pGOh5jN4K1_p",
        "outputId": "6772b93a-d78c-48d5-ae4e-c7935bf5fff5",
        "colab": {
          "base_uri": "https://localhost:8080/",
          "height": 51
        }
      },
      "source": [
        "# Checking Temperature feature values \n",
        "pd.unique(data[\"Temperature\"])"
      ],
      "execution_count": 13,
      "outputs": [
        {
          "output_type": "execute_result",
          "data": {
            "text/plain": [
              "array(['Unknown', '15-20', '5-10', '10-15', '27.0', '20-25', '20-25°',\n",
              "       '25-30', '0-5', '15-20°', 'pelous grasse'], dtype=object)"
            ]
          },
          "metadata": {
            "tags": []
          },
          "execution_count": 13
        }
      ]
    },
    {
      "cell_type": "code",
      "metadata": {
        "id": "Kjxh57AxK98T"
      },
      "source": [
        "# Correcting typing errors\n",
        "data[\"Temperature\"]= data[\"Temperature\"].replace('15-20°', '15-20')\n",
        "data[\"Temperature\"]= data[\"Temperature\"].replace('20-25°', '20-25')"
      ],
      "execution_count": 14,
      "outputs": []
    },
    {
      "cell_type": "code",
      "metadata": {
        "id": "xzLuNa7e5iax",
        "outputId": "5580a20f-3897-4194-8772-7880b56e8986",
        "colab": {
          "base_uri": "https://localhost:8080/",
          "height": 34
        }
      },
      "source": [
        "# getting data shape\n",
        "data.shape"
      ],
      "execution_count": 15,
      "outputs": [
        {
          "output_type": "execute_result",
          "data": {
            "text/plain": [
              "(2128, 82)"
            ]
          },
          "metadata": {
            "tags": []
          },
          "execution_count": 15
        }
      ]
    },
    {
      "cell_type": "code",
      "metadata": {
        "id": "yfXmI90tD6uW",
        "outputId": "c204494f-bbfe-41e3-f453-39398d7ce2be",
        "colab": {
          "base_uri": "https://localhost:8080/",
          "height": 34
        }
      },
      "source": [
        "data = data.drop([\"Date\"], axis = 1)\n",
        "data.shape"
      ],
      "execution_count": 16,
      "outputs": [
        {
          "output_type": "execute_result",
          "data": {
            "text/plain": [
              "(2128, 81)"
            ]
          },
          "metadata": {
            "tags": []
          },
          "execution_count": 16
        }
      ]
    },
    {
      "cell_type": "code",
      "metadata": {
        "id": "gNNx2nu15mBF",
        "outputId": "225cfdd9-6547-466b-84f0-c7e30b9b0fc4",
        "colab": {
          "base_uri": "https://localhost:8080/",
          "height": 1000
        }
      },
      "source": [
        "# getting features infos\n",
        "data.info()"
      ],
      "execution_count": 17,
      "outputs": [
        {
          "output_type": "stream",
          "text": [
            "<class 'pandas.core.frame.DataFrame'>\n",
            "Int64Index: 2128 entries, 0 to 2186\n",
            "Data columns (total 81 columns):\n",
            " #   Column                                Non-Null Count  Dtype  \n",
            "---  ------                                --------------  -----  \n",
            " 0   Athlete                               2128 non-null   object \n",
            " 1   Position                              2128 non-null   object \n",
            " 2   Duration                              2128 non-null   float64\n",
            " 3   Squad                                 2128 non-null   object \n",
            " 4   RPE                                   2128 non-null   float64\n",
            " 5   Distance                              2128 non-null   float64\n",
            " 6   Distance Zone 1                       2128 non-null   float64\n",
            " 7   Distance Zone 2                       2128 non-null   float64\n",
            " 8   Distance Zone 3                       2128 non-null   float64\n",
            " 9   Distance Zone 4                       2128 non-null   float64\n",
            " 10  Distance Zone 5                       2128 non-null   float64\n",
            " 11  Distance Zone 6                       2128 non-null   float64\n",
            " 12  marche                                2128 non-null   float64\n",
            " 13  LSR                                   2128 non-null   float64\n",
            " 14  HSR                                   2128 non-null   float64\n",
            " 15  VHSR                                  2128 non-null   float64\n",
            " 16  Max Speed                             2128 non-null   float64\n",
            " 17  M.min                                 2128 non-null   float64\n",
            " 18  Max HR                                2128 non-null   float64\n",
            " 19  Avg HR                                2128 non-null   float64\n",
            " 20  HR Exertion                           2128 non-null   float64\n",
            " 21  Time in HR Zone 1                     2128 non-null   float64\n",
            " 22  Time in HR Zone 2                     2128 non-null   float64\n",
            " 23  Time in HR Zone 3                     2128 non-null   float64\n",
            " 24  Time in HR Zone 4                     2128 non-null   float64\n",
            " 25  Time in HR Zone 5                     2128 non-null   float64\n",
            " 26  Time in HR Zone 6                     2128 non-null   float64\n",
            " 27  TPS >85%HR                            2128 non-null   float64\n",
            " 28  % TPS >85%HR                          2128 non-null   float64\n",
            " 29  Speed Exertion                        2128 non-null   float64\n",
            " 30  Sprint Count                          2128 non-null   float64\n",
            " 31  Accelerations Zone 1                  2128 non-null   float64\n",
            " 32  Accelerations Zone 2                  2128 non-null   float64\n",
            " 33  Accelerations Zone 3                  2128 non-null   float64\n",
            " 34  Acc >2,5m/s²                          2128 non-null   float64\n",
            " 35  Decelerations Zone 1                  2128 non-null   float64\n",
            " 36  Decelerations Zone 2                  2128 non-null   float64\n",
            " 37  Decelerations Zone 3                  2128 non-null   float64\n",
            " 38  Dec <-2,5m/s²                         2128 non-null   float64\n",
            " 39  New Bodyload                          2128 non-null   float64\n",
            " 40  Impacts Zone 1                        2128 non-null   float64\n",
            " 41  Impacts Zone 2                        2128 non-null   float64\n",
            " 42  impact 1 + 2                          2128 non-null   float64\n",
            " 43  Impacts Zone 3                        2128 non-null   float64\n",
            " 44  Impacts Zone 4                        2128 non-null   float64\n",
            " 45  impact 3+ 4                           2128 non-null   float64\n",
            " 46  Impacts Zone 5                        2128 non-null   float64\n",
            " 47  Impacts Zone 6                        2128 non-null   float64\n",
            " 48  impact 5+ 6                           2128 non-null   float64\n",
            " 49  Collisions                            2128 non-null   float64\n",
            " 50  Running Series                        2128 non-null   float64\n",
            " 51  Running Imbalance                     2128 non-null   float64\n",
            " 52  Running Imbalance Standard Deviation  2128 non-null   float64\n",
            " 53  Running Symmetry Footstrikes          2128 non-null   float64\n",
            " 54  Metabolic Load Time Zone 1            2128 non-null   float64\n",
            " 55  Metabolic Load Time Zone 2            2128 non-null   float64\n",
            " 56  Metabolic Load Time Zone 3            2128 non-null   float64\n",
            " 57  Metabolic Load Time Zone 4            2128 non-null   float64\n",
            " 58  Metabolic Load Time Zone 5            2128 non-null   float64\n",
            " 59  Metabolic Load (relative)             2128 non-null   float64\n",
            " 60  Metabolic Power Average               2128 non-null   float64\n",
            " 61  High-Metabolic-Power Distance         2128 non-null   float64\n",
            " 62  VHMPD                                 2128 non-null   float64\n",
            " 63  Equivalent Distance                   2128 non-null   float64\n",
            " 64  Metabolic Load Distance Zone 1        2128 non-null   float64\n",
            " 65  Metabolic Load Distance Zone 2        2128 non-null   float64\n",
            " 66  Metabolic Load Distance Zone 3        2128 non-null   float64\n",
            " 67  Metabolic Load Distance Zone 4        2128 non-null   float64\n",
            " 68  Metabolic Load Distance Zone 5        2128 non-null   float64\n",
            " 69  Metabolic Load (absolute)             2128 non-null   float64\n",
            " 70  Temperature                           2128 non-null   object \n",
            " 71  Weather                               2128 non-null   object \n",
            " 72  Grass                                 2128 non-null   object \n",
            " 73  Sprint Total Distance                 2128 non-null   float64\n",
            " 74  Sum_AD                                2128 non-null   float64\n",
            " 75  HSR.min                               2128 non-null   float64\n",
            " 76  SpTD.min                              2128 non-null   float64\n",
            " 77  Sum_AD.min                            2128 non-null   float64\n",
            " 78  Impacts.min                           2128 non-null   float64\n",
            " 79  HMPD.min                              2128 non-null   float64\n",
            " 80  Sp_acc                                2128 non-null   float64\n",
            "dtypes: float64(75), object(6)\n",
            "memory usage: 1.3+ MB\n"
          ],
          "name": "stdout"
        }
      ]
    },
    {
      "cell_type": "code",
      "metadata": {
        "id": "a0kJUGxF7rD5",
        "outputId": "30bbc903-ea3b-4787-844f-72ad9a11139f",
        "colab": {
          "base_uri": "https://localhost:8080/",
          "height": 34
        }
      },
      "source": [
        "# looking for missing values\n",
        "data.isna().sum().sum()"
      ],
      "execution_count": 18,
      "outputs": [
        {
          "output_type": "execute_result",
          "data": {
            "text/plain": [
              "0"
            ]
          },
          "metadata": {
            "tags": []
          },
          "execution_count": 18
        }
      ]
    },
    {
      "cell_type": "markdown",
      "metadata": {
        "id": "jg0X50715cji"
      },
      "source": [
        "We now have all needed variables and no NA."
      ]
    },
    {
      "cell_type": "markdown",
      "metadata": {
        "id": "gQFxy6ulnD6Z"
      },
      "source": [
        "# Features ingineering\n"
      ]
    },
    {
      "cell_type": "markdown",
      "metadata": {
        "id": "j2oz00rwnD6b"
      },
      "source": [
        "We want to create some variables :\n",
        "- ratio for distance and time in differents zones\n",
        "- encode categorical variables\n",
        "- add numerical variables on a log scale\n",
        "\n",
        "Then scale our data."
      ]
    },
    {
      "cell_type": "code",
      "metadata": {
        "id": "9K6uQvRunD6c"
      },
      "source": [
        "## distance\n",
        "data['% Distance Zone 1'] = data['Distance Zone 1'] / data[\"Distance\"]\n",
        "data['% Distance Zone 2'] = data['Distance Zone 2'] / data[\"Distance\"]\n",
        "data['% Distance Zone 3'] = data['Distance Zone 3'] / data[\"Distance\"]\n",
        "data['% Distance Zone 4'] = data['Distance Zone 4'] / data[\"Distance\"]\n",
        "data['% Distance Zone 5'] = data['Distance Zone 5'] / data[\"Distance\"]\n",
        "data['% Distance Zone 6'] = data['Distance Zone 6'] / data[\"Distance\"]\n",
        "\n",
        "# time HR\n",
        "data['% Time in HR Zone 1'] = data['Time in HR Zone 1'] / data[\"Duration\"]\n",
        "data['% Time in HR Zone 2'] = data['Time in HR Zone 2'] / data[\"Duration\"]\n",
        "data['% Time in HR Zone 3'] = data['Time in HR Zone 3'] / data[\"Duration\"]\n",
        "data['% Time in HR Zone 4'] = data['Time in HR Zone 4'] / data[\"Duration\"]\n",
        "data['% Time in HR Zone 5'] = data['Time in HR Zone 5'] / data[\"Duration\"]\n",
        "data['% Time in HR Zone 6'] = data['Time in HR Zone 6'] / data[\"Duration\"]\n",
        "\n",
        "# metabolic time\n",
        "data['% Metabolic Load Time Zone 1'] = data['Metabolic Load Time Zone 1'] / data[\"Duration\"]\n",
        "data['% Metabolic Load Time Zone 2'] = data['Metabolic Load Time Zone 2'] / data[\"Duration\"]\n",
        "data['% Metabolic Load Time Zone 3'] = data['Metabolic Load Time Zone 3'] / data[\"Duration\"]\n",
        "data['% Metabolic Load Time Zone 4'] = data['Metabolic Load Time Zone 4'] / data[\"Duration\"]\n",
        "data['% Metabolic Load Time Zone 5'] = data['Metabolic Load Time Zone 5'] / data[\"Duration\"]\n",
        "\n",
        "# metabolic distance\n",
        "data['% Metabolic Load Distance Zone 1'] = data['Metabolic Load Distance Zone 1'] / data[\"Distance\"]\n",
        "data['% Metabolic Load Distance Zone 2'] = data['Metabolic Load Distance Zone 2'] / data[\"Distance\"]\n",
        "data['% Metabolic Load Distance Zone 3'] = data['Metabolic Load Distance Zone 3'] / data[\"Distance\"]\n",
        "data['% Metabolic Load Distance Zone 4'] = data['Metabolic Load Distance Zone 4'] / data[\"Distance\"]\n",
        "data['% Metabolic Load Distance Zone 5'] = data['Metabolic Load Distance Zone 5'] / data[\"Distance\"]\n"
      ],
      "execution_count": 19,
      "outputs": []
    },
    {
      "cell_type": "markdown",
      "metadata": {
        "id": "EmKnc9X8FmDV"
      },
      "source": [
        "### Categorical variable encoding"
      ]
    },
    {
      "cell_type": "code",
      "metadata": {
        "id": "8VPjo6-BKmt3",
        "outputId": "8712df80-b422-4268-9394-0c979d1e28f6",
        "colab": {
          "base_uri": "https://localhost:8080/",
          "height": 34
        }
      },
      "source": [
        "objList = data.select_dtypes(include = \"object\").columns\n",
        "print (objList)"
      ],
      "execution_count": 20,
      "outputs": [
        {
          "output_type": "stream",
          "text": [
            "Index(['Athlete', 'Position', 'Squad', 'Temperature', 'Weather', 'Grass'], dtype='object')\n"
          ],
          "name": "stdout"
        }
      ]
    },
    {
      "cell_type": "code",
      "metadata": {
        "id": "HhNT6VxhFr8l"
      },
      "source": [
        "#Label Encoding for object to numeric conversion\n",
        "from sklearn.preprocessing import LabelEncoder\n",
        "le = LabelEncoder()\n",
        "\n",
        "for feat in objList:\n",
        "    data[feat] = le.fit_transform(data[feat].astype(str))"
      ],
      "execution_count": 21,
      "outputs": []
    },
    {
      "cell_type": "markdown",
      "metadata": {
        "id": "utERmUbczS9I"
      },
      "source": [
        "## Transforming numerical features to a log 10 scale\n"
      ]
    },
    {
      "cell_type": "code",
      "metadata": {
        "id": "1tDYtq8P4UIU",
        "outputId": "9db04444-0ba7-4a93-e430-84c15fc3b0e3",
        "colab": {
          "base_uri": "https://localhost:8080/",
          "height": 34
        }
      },
      "source": [
        "# selecting features to transform\n",
        "log_data = data\n",
        "log_data = log_data.drop(['Athlete', 'Position', 'Squad', 'Temperature', 'Weather', 'Grass', \"RPE\",], axis = 1)\n",
        "\n",
        "# Compute values on log10 scale\n",
        "log_data = np.log10(log_data)\n",
        "\n",
        "# adding prefix\n",
        "log_data = log_data.add_prefix('log10_')\n",
        "\n",
        "# adding log value to data frame\n",
        "data = pd.concat([data,log_data], axis = 1)\n",
        "\n",
        "# droping features with inf values\n",
        "data = data.replace([np.inf, -np.inf], np.nan)\n",
        "data = data.dropna(axis=1)\n",
        "data.isna().sum().sum()"
      ],
      "execution_count": 22,
      "outputs": [
        {
          "output_type": "execute_result",
          "data": {
            "text/plain": [
              "0"
            ]
          },
          "metadata": {
            "tags": []
          },
          "execution_count": 22
        }
      ]
    },
    {
      "cell_type": "code",
      "metadata": {
        "id": "zsqrugrX5ebC",
        "outputId": "53dd6de2-ef58-4e6c-fd8e-f724e531e4d2",
        "colab": {
          "base_uri": "https://localhost:8080/",
          "height": 34
        }
      },
      "source": [
        "data.shape"
      ],
      "execution_count": 23,
      "outputs": [
        {
          "output_type": "execute_result",
          "data": {
            "text/plain": [
              "(2128, 121)"
            ]
          },
          "metadata": {
            "tags": []
          },
          "execution_count": 23
        }
      ]
    },
    {
      "cell_type": "code",
      "metadata": {
        "id": "q6qgCMCKn_dU",
        "outputId": "ec86c54a-f44e-4a54-bcfc-feeb49d71a2b",
        "colab": {
          "base_uri": "https://localhost:8080/",
          "height": 321
        }
      },
      "source": [
        "data.head(5)"
      ],
      "execution_count": 24,
      "outputs": [
        {
          "output_type": "execute_result",
          "data": {
            "text/html": [
              "<div>\n",
              "<style scoped>\n",
              "    .dataframe tbody tr th:only-of-type {\n",
              "        vertical-align: middle;\n",
              "    }\n",
              "\n",
              "    .dataframe tbody tr th {\n",
              "        vertical-align: top;\n",
              "    }\n",
              "\n",
              "    .dataframe thead th {\n",
              "        text-align: right;\n",
              "    }\n",
              "</style>\n",
              "<table border=\"1\" class=\"dataframe\">\n",
              "  <thead>\n",
              "    <tr style=\"text-align: right;\">\n",
              "      <th></th>\n",
              "      <th>Athlete</th>\n",
              "      <th>Position</th>\n",
              "      <th>Duration</th>\n",
              "      <th>Squad</th>\n",
              "      <th>RPE</th>\n",
              "      <th>Distance</th>\n",
              "      <th>Distance Zone 1</th>\n",
              "      <th>Distance Zone 2</th>\n",
              "      <th>Distance Zone 3</th>\n",
              "      <th>Distance Zone 4</th>\n",
              "      <th>Distance Zone 5</th>\n",
              "      <th>Distance Zone 6</th>\n",
              "      <th>marche</th>\n",
              "      <th>LSR</th>\n",
              "      <th>HSR</th>\n",
              "      <th>VHSR</th>\n",
              "      <th>Max Speed</th>\n",
              "      <th>M.min</th>\n",
              "      <th>Max HR</th>\n",
              "      <th>Avg HR</th>\n",
              "      <th>HR Exertion</th>\n",
              "      <th>Time in HR Zone 1</th>\n",
              "      <th>Time in HR Zone 2</th>\n",
              "      <th>Time in HR Zone 3</th>\n",
              "      <th>Time in HR Zone 4</th>\n",
              "      <th>Time in HR Zone 5</th>\n",
              "      <th>Time in HR Zone 6</th>\n",
              "      <th>TPS &gt;85%HR</th>\n",
              "      <th>% TPS &gt;85%HR</th>\n",
              "      <th>Speed Exertion</th>\n",
              "      <th>Sprint Count</th>\n",
              "      <th>Accelerations Zone 1</th>\n",
              "      <th>Accelerations Zone 2</th>\n",
              "      <th>Accelerations Zone 3</th>\n",
              "      <th>Acc &gt;2,5m/s²</th>\n",
              "      <th>Decelerations Zone 1</th>\n",
              "      <th>Decelerations Zone 2</th>\n",
              "      <th>Decelerations Zone 3</th>\n",
              "      <th>Dec &lt;-2,5m/s²</th>\n",
              "      <th>New Bodyload</th>\n",
              "      <th>...</th>\n",
              "      <th>% Distance Zone 1</th>\n",
              "      <th>% Distance Zone 2</th>\n",
              "      <th>% Distance Zone 3</th>\n",
              "      <th>% Distance Zone 4</th>\n",
              "      <th>% Distance Zone 5</th>\n",
              "      <th>% Distance Zone 6</th>\n",
              "      <th>% Time in HR Zone 1</th>\n",
              "      <th>% Time in HR Zone 2</th>\n",
              "      <th>% Time in HR Zone 3</th>\n",
              "      <th>% Time in HR Zone 4</th>\n",
              "      <th>% Time in HR Zone 5</th>\n",
              "      <th>% Time in HR Zone 6</th>\n",
              "      <th>% Metabolic Load Time Zone 1</th>\n",
              "      <th>% Metabolic Load Time Zone 2</th>\n",
              "      <th>% Metabolic Load Time Zone 3</th>\n",
              "      <th>% Metabolic Load Time Zone 4</th>\n",
              "      <th>% Metabolic Load Time Zone 5</th>\n",
              "      <th>% Metabolic Load Distance Zone 1</th>\n",
              "      <th>% Metabolic Load Distance Zone 2</th>\n",
              "      <th>% Metabolic Load Distance Zone 3</th>\n",
              "      <th>% Metabolic Load Distance Zone 4</th>\n",
              "      <th>% Metabolic Load Distance Zone 5</th>\n",
              "      <th>log10_Duration</th>\n",
              "      <th>log10_Distance</th>\n",
              "      <th>log10_Distance Zone 1</th>\n",
              "      <th>log10_Distance Zone 2</th>\n",
              "      <th>log10_marche</th>\n",
              "      <th>log10_LSR</th>\n",
              "      <th>log10_Max Speed</th>\n",
              "      <th>log10_M.min</th>\n",
              "      <th>log10_Time in HR Zone 1</th>\n",
              "      <th>log10_Speed Exertion</th>\n",
              "      <th>log10_New Bodyload</th>\n",
              "      <th>log10_Metabolic Load (relative)</th>\n",
              "      <th>log10_Metabolic Power Average</th>\n",
              "      <th>log10_Equivalent Distance</th>\n",
              "      <th>log10_Metabolic Load (absolute)</th>\n",
              "      <th>log10_% Distance Zone 1</th>\n",
              "      <th>log10_% Distance Zone 2</th>\n",
              "      <th>log10_% Time in HR Zone 1</th>\n",
              "    </tr>\n",
              "  </thead>\n",
              "  <tbody>\n",
              "    <tr>\n",
              "      <th>0</th>\n",
              "      <td>0</td>\n",
              "      <td>0</td>\n",
              "      <td>52.38</td>\n",
              "      <td>1</td>\n",
              "      <td>3.0</td>\n",
              "      <td>1205.27</td>\n",
              "      <td>751.48</td>\n",
              "      <td>196.96</td>\n",
              "      <td>220.08</td>\n",
              "      <td>36.75</td>\n",
              "      <td>0.00</td>\n",
              "      <td>0.0</td>\n",
              "      <td>751.48</td>\n",
              "      <td>417.04</td>\n",
              "      <td>36.75</td>\n",
              "      <td>0.00</td>\n",
              "      <td>18.72</td>\n",
              "      <td>23.010118</td>\n",
              "      <td>183.0</td>\n",
              "      <td>139.72</td>\n",
              "      <td>152.72</td>\n",
              "      <td>9.29</td>\n",
              "      <td>7.11</td>\n",
              "      <td>16.67</td>\n",
              "      <td>17.36</td>\n",
              "      <td>1.69</td>\n",
              "      <td>0.27</td>\n",
              "      <td>1.96</td>\n",
              "      <td>0.037412</td>\n",
              "      <td>3387.8</td>\n",
              "      <td>0.0</td>\n",
              "      <td>1.0</td>\n",
              "      <td>0.0</td>\n",
              "      <td>0.0</td>\n",
              "      <td>0.0</td>\n",
              "      <td>0.0</td>\n",
              "      <td>0.0</td>\n",
              "      <td>0.0</td>\n",
              "      <td>0.0</td>\n",
              "      <td>24.25</td>\n",
              "      <td>...</td>\n",
              "      <td>0.623495</td>\n",
              "      <td>0.163416</td>\n",
              "      <td>0.182598</td>\n",
              "      <td>0.030491</td>\n",
              "      <td>0.000000</td>\n",
              "      <td>0.0</td>\n",
              "      <td>0.177358</td>\n",
              "      <td>0.135739</td>\n",
              "      <td>0.318251</td>\n",
              "      <td>0.331424</td>\n",
              "      <td>0.032264</td>\n",
              "      <td>0.005155</td>\n",
              "      <td>0.946926</td>\n",
              "      <td>0.040092</td>\n",
              "      <td>0.009546</td>\n",
              "      <td>0.003818</td>\n",
              "      <td>0.001909</td>\n",
              "      <td>0.634298</td>\n",
              "      <td>0.254383</td>\n",
              "      <td>0.070441</td>\n",
              "      <td>0.029786</td>\n",
              "      <td>0.011118</td>\n",
              "      <td>1.719165</td>\n",
              "      <td>3.081084</td>\n",
              "      <td>2.875917</td>\n",
              "      <td>2.294378</td>\n",
              "      <td>2.875917</td>\n",
              "      <td>2.620178</td>\n",
              "      <td>1.272306</td>\n",
              "      <td>1.361919</td>\n",
              "      <td>0.968016</td>\n",
              "      <td>3.529918</td>\n",
              "      <td>1.384712</td>\n",
              "      <td>0.838849</td>\n",
              "      <td>0.342423</td>\n",
              "      <td>3.170731</td>\n",
              "      <td>2.875061</td>\n",
              "      <td>-0.205167</td>\n",
              "      <td>-0.786706</td>\n",
              "      <td>-0.751150</td>\n",
              "    </tr>\n",
              "    <tr>\n",
              "      <th>1</th>\n",
              "      <td>0</td>\n",
              "      <td>0</td>\n",
              "      <td>97.65</td>\n",
              "      <td>1</td>\n",
              "      <td>7.0</td>\n",
              "      <td>4674.08</td>\n",
              "      <td>2432.61</td>\n",
              "      <td>1065.51</td>\n",
              "      <td>833.21</td>\n",
              "      <td>318.12</td>\n",
              "      <td>24.64</td>\n",
              "      <td>0.0</td>\n",
              "      <td>2432.61</td>\n",
              "      <td>1898.72</td>\n",
              "      <td>342.76</td>\n",
              "      <td>24.64</td>\n",
              "      <td>22.75</td>\n",
              "      <td>47.865643</td>\n",
              "      <td>199.0</td>\n",
              "      <td>143.51</td>\n",
              "      <td>453.83</td>\n",
              "      <td>18.43</td>\n",
              "      <td>12.45</td>\n",
              "      <td>23.05</td>\n",
              "      <td>25.53</td>\n",
              "      <td>16.24</td>\n",
              "      <td>1.95</td>\n",
              "      <td>18.19</td>\n",
              "      <td>0.186278</td>\n",
              "      <td>7030.6</td>\n",
              "      <td>0.0</td>\n",
              "      <td>1.0</td>\n",
              "      <td>0.0</td>\n",
              "      <td>0.0</td>\n",
              "      <td>0.0</td>\n",
              "      <td>0.0</td>\n",
              "      <td>0.0</td>\n",
              "      <td>0.0</td>\n",
              "      <td>0.0</td>\n",
              "      <td>75.15</td>\n",
              "      <td>...</td>\n",
              "      <td>0.520447</td>\n",
              "      <td>0.227961</td>\n",
              "      <td>0.178262</td>\n",
              "      <td>0.068060</td>\n",
              "      <td>0.005272</td>\n",
              "      <td>0.0</td>\n",
              "      <td>0.188735</td>\n",
              "      <td>0.127496</td>\n",
              "      <td>0.236047</td>\n",
              "      <td>0.261444</td>\n",
              "      <td>0.166308</td>\n",
              "      <td>0.019969</td>\n",
              "      <td>0.562212</td>\n",
              "      <td>0.140297</td>\n",
              "      <td>0.131080</td>\n",
              "      <td>0.062468</td>\n",
              "      <td>0.103431</td>\n",
              "      <td>0.094008</td>\n",
              "      <td>0.197665</td>\n",
              "      <td>0.228601</td>\n",
              "      <td>0.139621</td>\n",
              "      <td>0.340024</td>\n",
              "      <td>1.989672</td>\n",
              "      <td>3.669696</td>\n",
              "      <td>3.386072</td>\n",
              "      <td>3.027558</td>\n",
              "      <td>3.386072</td>\n",
              "      <td>3.278461</td>\n",
              "      <td>1.356981</td>\n",
              "      <td>1.680024</td>\n",
              "      <td>1.265525</td>\n",
              "      <td>3.846992</td>\n",
              "      <td>1.875929</td>\n",
              "      <td>2.156549</td>\n",
              "      <td>1.389166</td>\n",
              "      <td>4.489691</td>\n",
              "      <td>4.194012</td>\n",
              "      <td>-0.283624</td>\n",
              "      <td>-0.642139</td>\n",
              "      <td>-0.724147</td>\n",
              "    </tr>\n",
              "    <tr>\n",
              "      <th>2</th>\n",
              "      <td>0</td>\n",
              "      <td>0</td>\n",
              "      <td>43.85</td>\n",
              "      <td>1</td>\n",
              "      <td>4.0</td>\n",
              "      <td>1488.11</td>\n",
              "      <td>916.59</td>\n",
              "      <td>318.01</td>\n",
              "      <td>235.15</td>\n",
              "      <td>18.36</td>\n",
              "      <td>0.00</td>\n",
              "      <td>0.0</td>\n",
              "      <td>916.59</td>\n",
              "      <td>553.16</td>\n",
              "      <td>18.36</td>\n",
              "      <td>0.00</td>\n",
              "      <td>18.47</td>\n",
              "      <td>33.936374</td>\n",
              "      <td>176.0</td>\n",
              "      <td>140.96</td>\n",
              "      <td>124.67</td>\n",
              "      <td>3.47</td>\n",
              "      <td>9.78</td>\n",
              "      <td>16.94</td>\n",
              "      <td>11.16</td>\n",
              "      <td>2.45</td>\n",
              "      <td>0.05</td>\n",
              "      <td>2.50</td>\n",
              "      <td>0.057013</td>\n",
              "      <td>2924.0</td>\n",
              "      <td>0.0</td>\n",
              "      <td>1.0</td>\n",
              "      <td>0.0</td>\n",
              "      <td>0.0</td>\n",
              "      <td>0.0</td>\n",
              "      <td>0.0</td>\n",
              "      <td>0.0</td>\n",
              "      <td>0.0</td>\n",
              "      <td>0.0</td>\n",
              "      <td>25.43</td>\n",
              "      <td>...</td>\n",
              "      <td>0.615942</td>\n",
              "      <td>0.213701</td>\n",
              "      <td>0.158019</td>\n",
              "      <td>0.012338</td>\n",
              "      <td>0.000000</td>\n",
              "      <td>0.0</td>\n",
              "      <td>0.079133</td>\n",
              "      <td>0.223033</td>\n",
              "      <td>0.386317</td>\n",
              "      <td>0.254504</td>\n",
              "      <td>0.055872</td>\n",
              "      <td>0.001140</td>\n",
              "      <td>0.953250</td>\n",
              "      <td>0.034208</td>\n",
              "      <td>0.009122</td>\n",
              "      <td>0.002281</td>\n",
              "      <td>0.000000</td>\n",
              "      <td>0.748265</td>\n",
              "      <td>0.182177</td>\n",
              "      <td>0.052415</td>\n",
              "      <td>0.014918</td>\n",
              "      <td>0.002218</td>\n",
              "      <td>1.641970</td>\n",
              "      <td>3.172635</td>\n",
              "      <td>2.962175</td>\n",
              "      <td>2.502441</td>\n",
              "      <td>2.962175</td>\n",
              "      <td>2.742851</td>\n",
              "      <td>1.266467</td>\n",
              "      <td>1.530665</td>\n",
              "      <td>0.540329</td>\n",
              "      <td>3.465977</td>\n",
              "      <td>1.405346</td>\n",
              "      <td>0.857332</td>\n",
              "      <td>0.431364</td>\n",
              "      <td>3.189743</td>\n",
              "      <td>2.894039</td>\n",
              "      <td>-0.210460</td>\n",
              "      <td>-0.670194</td>\n",
              "      <td>-1.101640</td>\n",
              "    </tr>\n",
              "    <tr>\n",
              "      <th>3</th>\n",
              "      <td>0</td>\n",
              "      <td>0</td>\n",
              "      <td>70.68</td>\n",
              "      <td>1</td>\n",
              "      <td>5.0</td>\n",
              "      <td>4382.54</td>\n",
              "      <td>2255.20</td>\n",
              "      <td>1155.82</td>\n",
              "      <td>615.73</td>\n",
              "      <td>261.86</td>\n",
              "      <td>93.92</td>\n",
              "      <td>0.0</td>\n",
              "      <td>2255.20</td>\n",
              "      <td>1771.55</td>\n",
              "      <td>355.78</td>\n",
              "      <td>93.92</td>\n",
              "      <td>23.00</td>\n",
              "      <td>62.005376</td>\n",
              "      <td>178.0</td>\n",
              "      <td>138.38</td>\n",
              "      <td>181.00</td>\n",
              "      <td>11.54</td>\n",
              "      <td>10.87</td>\n",
              "      <td>25.93</td>\n",
              "      <td>21.09</td>\n",
              "      <td>1.19</td>\n",
              "      <td>0.07</td>\n",
              "      <td>1.26</td>\n",
              "      <td>0.017824</td>\n",
              "      <td>5348.2</td>\n",
              "      <td>0.0</td>\n",
              "      <td>1.0</td>\n",
              "      <td>0.0</td>\n",
              "      <td>0.0</td>\n",
              "      <td>0.0</td>\n",
              "      <td>0.0</td>\n",
              "      <td>0.0</td>\n",
              "      <td>0.0</td>\n",
              "      <td>0.0</td>\n",
              "      <td>65.55</td>\n",
              "      <td>...</td>\n",
              "      <td>0.514587</td>\n",
              "      <td>0.263733</td>\n",
              "      <td>0.140496</td>\n",
              "      <td>0.059751</td>\n",
              "      <td>0.021430</td>\n",
              "      <td>0.0</td>\n",
              "      <td>0.163271</td>\n",
              "      <td>0.153792</td>\n",
              "      <td>0.366865</td>\n",
              "      <td>0.298387</td>\n",
              "      <td>0.016836</td>\n",
              "      <td>0.000990</td>\n",
              "      <td>0.908319</td>\n",
              "      <td>0.055178</td>\n",
              "      <td>0.024052</td>\n",
              "      <td>0.009904</td>\n",
              "      <td>0.002830</td>\n",
              "      <td>0.703565</td>\n",
              "      <td>0.164676</td>\n",
              "      <td>0.082806</td>\n",
              "      <td>0.038608</td>\n",
              "      <td>0.010336</td>\n",
              "      <td>1.849297</td>\n",
              "      <td>3.641726</td>\n",
              "      <td>3.353185</td>\n",
              "      <td>3.062890</td>\n",
              "      <td>3.353185</td>\n",
              "      <td>3.248353</td>\n",
              "      <td>1.361728</td>\n",
              "      <td>1.792429</td>\n",
              "      <td>1.062206</td>\n",
              "      <td>3.728208</td>\n",
              "      <td>1.816573</td>\n",
              "      <td>1.328380</td>\n",
              "      <td>0.698970</td>\n",
              "      <td>3.661254</td>\n",
              "      <td>3.365563</td>\n",
              "      <td>-0.288541</td>\n",
              "      <td>-0.578836</td>\n",
              "      <td>-0.787091</td>\n",
              "    </tr>\n",
              "    <tr>\n",
              "      <th>4</th>\n",
              "      <td>0</td>\n",
              "      <td>0</td>\n",
              "      <td>56.20</td>\n",
              "      <td>1</td>\n",
              "      <td>3.0</td>\n",
              "      <td>1755.01</td>\n",
              "      <td>1079.84</td>\n",
              "      <td>404.80</td>\n",
              "      <td>262.40</td>\n",
              "      <td>7.97</td>\n",
              "      <td>0.00</td>\n",
              "      <td>0.0</td>\n",
              "      <td>1079.84</td>\n",
              "      <td>667.20</td>\n",
              "      <td>7.97</td>\n",
              "      <td>0.00</td>\n",
              "      <td>18.00</td>\n",
              "      <td>31.227936</td>\n",
              "      <td>206.0</td>\n",
              "      <td>133.06</td>\n",
              "      <td>149.89</td>\n",
              "      <td>19.55</td>\n",
              "      <td>10.80</td>\n",
              "      <td>13.10</td>\n",
              "      <td>10.33</td>\n",
              "      <td>1.75</td>\n",
              "      <td>0.68</td>\n",
              "      <td>2.43</td>\n",
              "      <td>0.043231</td>\n",
              "      <td>3715.6</td>\n",
              "      <td>0.0</td>\n",
              "      <td>1.0</td>\n",
              "      <td>0.0</td>\n",
              "      <td>0.0</td>\n",
              "      <td>0.0</td>\n",
              "      <td>0.0</td>\n",
              "      <td>0.0</td>\n",
              "      <td>0.0</td>\n",
              "      <td>0.0</td>\n",
              "      <td>20.44</td>\n",
              "      <td>...</td>\n",
              "      <td>0.615290</td>\n",
              "      <td>0.230654</td>\n",
              "      <td>0.149515</td>\n",
              "      <td>0.004541</td>\n",
              "      <td>0.000000</td>\n",
              "      <td>0.0</td>\n",
              "      <td>0.347865</td>\n",
              "      <td>0.192171</td>\n",
              "      <td>0.233096</td>\n",
              "      <td>0.183808</td>\n",
              "      <td>0.031139</td>\n",
              "      <td>0.012100</td>\n",
              "      <td>0.676157</td>\n",
              "      <td>0.097865</td>\n",
              "      <td>0.115658</td>\n",
              "      <td>0.048043</td>\n",
              "      <td>0.062278</td>\n",
              "      <td>0.087065</td>\n",
              "      <td>0.206722</td>\n",
              "      <td>0.282164</td>\n",
              "      <td>0.149002</td>\n",
              "      <td>0.275041</td>\n",
              "      <td>1.749736</td>\n",
              "      <td>3.244280</td>\n",
              "      <td>3.033359</td>\n",
              "      <td>2.607241</td>\n",
              "      <td>3.033359</td>\n",
              "      <td>2.824256</td>\n",
              "      <td>1.255273</td>\n",
              "      <td>1.494543</td>\n",
              "      <td>1.291147</td>\n",
              "      <td>3.570029</td>\n",
              "      <td>1.310481</td>\n",
              "      <td>1.719331</td>\n",
              "      <td>1.190332</td>\n",
              "      <td>4.052024</td>\n",
              "      <td>3.756347</td>\n",
              "      <td>-0.210920</td>\n",
              "      <td>-0.637039</td>\n",
              "      <td>-0.458590</td>\n",
              "    </tr>\n",
              "  </tbody>\n",
              "</table>\n",
              "<p>5 rows × 121 columns</p>\n",
              "</div>"
            ],
            "text/plain": [
              "   Athlete  Position  ...  log10_% Distance Zone 2  log10_% Time in HR Zone 1\n",
              "0        0         0  ...                -0.786706                  -0.751150\n",
              "1        0         0  ...                -0.642139                  -0.724147\n",
              "2        0         0  ...                -0.670194                  -1.101640\n",
              "3        0         0  ...                -0.578836                  -0.787091\n",
              "4        0         0  ...                -0.637039                  -0.458590\n",
              "\n",
              "[5 rows x 121 columns]"
            ]
          },
          "metadata": {
            "tags": []
          },
          "execution_count": 24
        }
      ]
    },
    {
      "cell_type": "markdown",
      "metadata": {
        "id": "gXHl2Mm9zsI3"
      },
      "source": [
        "## Scaling data\n"
      ]
    },
    {
      "cell_type": "code",
      "metadata": {
        "id": "_T7mAtCdpz27",
        "outputId": "e1e4420b-e94c-466f-de24-4ffd88f766fa",
        "colab": {
          "base_uri": "https://localhost:8080/",
          "height": 321
        }
      },
      "source": [
        "X_scaled = data.drop(\"RPE\", axis=1)\n",
        "cols = X_scaled.columns\n",
        "\n",
        "# getting values\n",
        "X = X_scaled\n",
        "\n",
        "# Scaling\n",
        "from sklearn import preprocessing\n",
        "\n",
        "std_scale = preprocessing.StandardScaler().fit(X)\n",
        "X_scaled = std_scale.transform(X)\n",
        "\n",
        "# reseting index before merge\n",
        "data = data.reset_index()\n",
        "\n",
        "# merging RPE and scaled values\n",
        "data = pd.concat([data[\"RPE\"],pd.DataFrame(X_scaled, columns=cols)], axis = 1)\n",
        "data.head(5)"
      ],
      "execution_count": 25,
      "outputs": [
        {
          "output_type": "execute_result",
          "data": {
            "text/html": [
              "<div>\n",
              "<style scoped>\n",
              "    .dataframe tbody tr th:only-of-type {\n",
              "        vertical-align: middle;\n",
              "    }\n",
              "\n",
              "    .dataframe tbody tr th {\n",
              "        vertical-align: top;\n",
              "    }\n",
              "\n",
              "    .dataframe thead th {\n",
              "        text-align: right;\n",
              "    }\n",
              "</style>\n",
              "<table border=\"1\" class=\"dataframe\">\n",
              "  <thead>\n",
              "    <tr style=\"text-align: right;\">\n",
              "      <th></th>\n",
              "      <th>RPE</th>\n",
              "      <th>Athlete</th>\n",
              "      <th>Position</th>\n",
              "      <th>Duration</th>\n",
              "      <th>Squad</th>\n",
              "      <th>Distance</th>\n",
              "      <th>Distance Zone 1</th>\n",
              "      <th>Distance Zone 2</th>\n",
              "      <th>Distance Zone 3</th>\n",
              "      <th>Distance Zone 4</th>\n",
              "      <th>Distance Zone 5</th>\n",
              "      <th>Distance Zone 6</th>\n",
              "      <th>marche</th>\n",
              "      <th>LSR</th>\n",
              "      <th>HSR</th>\n",
              "      <th>VHSR</th>\n",
              "      <th>Max Speed</th>\n",
              "      <th>M.min</th>\n",
              "      <th>Max HR</th>\n",
              "      <th>Avg HR</th>\n",
              "      <th>HR Exertion</th>\n",
              "      <th>Time in HR Zone 1</th>\n",
              "      <th>Time in HR Zone 2</th>\n",
              "      <th>Time in HR Zone 3</th>\n",
              "      <th>Time in HR Zone 4</th>\n",
              "      <th>Time in HR Zone 5</th>\n",
              "      <th>Time in HR Zone 6</th>\n",
              "      <th>TPS &gt;85%HR</th>\n",
              "      <th>% TPS &gt;85%HR</th>\n",
              "      <th>Speed Exertion</th>\n",
              "      <th>Sprint Count</th>\n",
              "      <th>Accelerations Zone 1</th>\n",
              "      <th>Accelerations Zone 2</th>\n",
              "      <th>Accelerations Zone 3</th>\n",
              "      <th>Acc &gt;2,5m/s²</th>\n",
              "      <th>Decelerations Zone 1</th>\n",
              "      <th>Decelerations Zone 2</th>\n",
              "      <th>Decelerations Zone 3</th>\n",
              "      <th>Dec &lt;-2,5m/s²</th>\n",
              "      <th>New Bodyload</th>\n",
              "      <th>...</th>\n",
              "      <th>% Distance Zone 1</th>\n",
              "      <th>% Distance Zone 2</th>\n",
              "      <th>% Distance Zone 3</th>\n",
              "      <th>% Distance Zone 4</th>\n",
              "      <th>% Distance Zone 5</th>\n",
              "      <th>% Distance Zone 6</th>\n",
              "      <th>% Time in HR Zone 1</th>\n",
              "      <th>% Time in HR Zone 2</th>\n",
              "      <th>% Time in HR Zone 3</th>\n",
              "      <th>% Time in HR Zone 4</th>\n",
              "      <th>% Time in HR Zone 5</th>\n",
              "      <th>% Time in HR Zone 6</th>\n",
              "      <th>% Metabolic Load Time Zone 1</th>\n",
              "      <th>% Metabolic Load Time Zone 2</th>\n",
              "      <th>% Metabolic Load Time Zone 3</th>\n",
              "      <th>% Metabolic Load Time Zone 4</th>\n",
              "      <th>% Metabolic Load Time Zone 5</th>\n",
              "      <th>% Metabolic Load Distance Zone 1</th>\n",
              "      <th>% Metabolic Load Distance Zone 2</th>\n",
              "      <th>% Metabolic Load Distance Zone 3</th>\n",
              "      <th>% Metabolic Load Distance Zone 4</th>\n",
              "      <th>% Metabolic Load Distance Zone 5</th>\n",
              "      <th>log10_Duration</th>\n",
              "      <th>log10_Distance</th>\n",
              "      <th>log10_Distance Zone 1</th>\n",
              "      <th>log10_Distance Zone 2</th>\n",
              "      <th>log10_marche</th>\n",
              "      <th>log10_LSR</th>\n",
              "      <th>log10_Max Speed</th>\n",
              "      <th>log10_M.min</th>\n",
              "      <th>log10_Time in HR Zone 1</th>\n",
              "      <th>log10_Speed Exertion</th>\n",
              "      <th>log10_New Bodyload</th>\n",
              "      <th>log10_Metabolic Load (relative)</th>\n",
              "      <th>log10_Metabolic Power Average</th>\n",
              "      <th>log10_Equivalent Distance</th>\n",
              "      <th>log10_Metabolic Load (absolute)</th>\n",
              "      <th>log10_% Distance Zone 1</th>\n",
              "      <th>log10_% Distance Zone 2</th>\n",
              "      <th>log10_% Time in HR Zone 1</th>\n",
              "    </tr>\n",
              "  </thead>\n",
              "  <tbody>\n",
              "    <tr>\n",
              "      <th>0</th>\n",
              "      <td>3.0</td>\n",
              "      <td>-1.571738</td>\n",
              "      <td>-1.203266</td>\n",
              "      <td>-0.438364</td>\n",
              "      <td>1.279424</td>\n",
              "      <td>-1.517242</td>\n",
              "      <td>-1.551793</td>\n",
              "      <td>-1.191535</td>\n",
              "      <td>-0.736618</td>\n",
              "      <td>-1.284617</td>\n",
              "      <td>-1.124406</td>\n",
              "      <td>-0.499231</td>\n",
              "      <td>-1.551793</td>\n",
              "      <td>-1.043397</td>\n",
              "      <td>-1.362634</td>\n",
              "      <td>-1.068934</td>\n",
              "      <td>-1.382388</td>\n",
              "      <td>-1.635131</td>\n",
              "      <td>-0.152517</td>\n",
              "      <td>0.840293</td>\n",
              "      <td>-0.219934</td>\n",
              "      <td>-1.371660</td>\n",
              "      <td>-0.302733</td>\n",
              "      <td>1.747823</td>\n",
              "      <td>2.011026</td>\n",
              "      <td>-0.601226</td>\n",
              "      <td>-0.496689</td>\n",
              "      <td>-0.615114</td>\n",
              "      <td>-0.586334</td>\n",
              "      <td>-0.756566</td>\n",
              "      <td>-0.415409</td>\n",
              "      <td>-1.421966</td>\n",
              "      <td>-1.366481</td>\n",
              "      <td>-0.938343</td>\n",
              "      <td>-1.325625</td>\n",
              "      <td>-1.496249</td>\n",
              "      <td>-1.233778</td>\n",
              "      <td>-0.78509</td>\n",
              "      <td>-1.192312</td>\n",
              "      <td>-0.634392</td>\n",
              "      <td>...</td>\n",
              "      <td>0.682389</td>\n",
              "      <td>-0.371425</td>\n",
              "      <td>1.135841</td>\n",
              "      <td>-1.220273</td>\n",
              "      <td>-1.284932</td>\n",
              "      <td>-0.525011</td>\n",
              "      <td>-1.481328</td>\n",
              "      <td>-0.084210</td>\n",
              "      <td>2.403643</td>\n",
              "      <td>2.655327</td>\n",
              "      <td>-0.573215</td>\n",
              "      <td>-0.444828</td>\n",
              "      <td>1.702594</td>\n",
              "      <td>-0.373846</td>\n",
              "      <td>-0.835092</td>\n",
              "      <td>-0.294686</td>\n",
              "      <td>-0.223152</td>\n",
              "      <td>0.078895</td>\n",
              "      <td>1.539827</td>\n",
              "      <td>-0.853609</td>\n",
              "      <td>-1.132443</td>\n",
              "      <td>-0.436512</td>\n",
              "      <td>-0.270677</td>\n",
              "      <td>-1.742254</td>\n",
              "      <td>-1.662592</td>\n",
              "      <td>-1.379713</td>\n",
              "      <td>-1.662592</td>\n",
              "      <td>-0.974788</td>\n",
              "      <td>-1.289281</td>\n",
              "      <td>-1.751484</td>\n",
              "      <td>-1.607161</td>\n",
              "      <td>-0.596865</td>\n",
              "      <td>-1.138241</td>\n",
              "      <td>-1.373003</td>\n",
              "      <td>-1.385146</td>\n",
              "      <td>-1.378745</td>\n",
              "      <td>-1.194671</td>\n",
              "      <td>0.650583</td>\n",
              "      <td>-0.233498</td>\n",
              "      <td>-1.711929</td>\n",
              "    </tr>\n",
              "    <tr>\n",
              "      <th>1</th>\n",
              "      <td>7.0</td>\n",
              "      <td>-1.571738</td>\n",
              "      <td>-1.203266</td>\n",
              "      <td>2.598107</td>\n",
              "      <td>1.279424</td>\n",
              "      <td>1.628365</td>\n",
              "      <td>1.927351</td>\n",
              "      <td>1.761717</td>\n",
              "      <td>1.805616</td>\n",
              "      <td>0.250072</td>\n",
              "      <td>-0.925864</td>\n",
              "      <td>-0.499231</td>\n",
              "      <td>1.927351</td>\n",
              "      <td>1.884122</td>\n",
              "      <td>-0.305100</td>\n",
              "      <td>-0.903046</td>\n",
              "      <td>-0.402335</td>\n",
              "      <td>-0.117715</td>\n",
              "      <td>0.622452</td>\n",
              "      <td>1.084874</td>\n",
              "      <td>1.788558</td>\n",
              "      <td>-0.716390</td>\n",
              "      <td>1.098172</td>\n",
              "      <td>3.182238</td>\n",
              "      <td>3.668210</td>\n",
              "      <td>2.411270</td>\n",
              "      <td>0.236884</td>\n",
              "      <td>1.855173</td>\n",
              "      <td>0.860446</td>\n",
              "      <td>2.339412</td>\n",
              "      <td>-0.415409</td>\n",
              "      <td>-1.421966</td>\n",
              "      <td>-1.366481</td>\n",
              "      <td>-0.938343</td>\n",
              "      <td>-1.325625</td>\n",
              "      <td>-1.496249</td>\n",
              "      <td>-1.233778</td>\n",
              "      <td>-0.78509</td>\n",
              "      <td>-1.192312</td>\n",
              "      <td>0.237524</td>\n",
              "      <td>...</td>\n",
              "      <td>-0.247781</td>\n",
              "      <td>0.754096</td>\n",
              "      <td>1.044242</td>\n",
              "      <td>-0.413882</td>\n",
              "      <td>-1.134297</td>\n",
              "      <td>-0.525011</td>\n",
              "      <td>-1.426447</td>\n",
              "      <td>-0.236785</td>\n",
              "      <td>1.211921</td>\n",
              "      <td>1.748914</td>\n",
              "      <td>1.227282</td>\n",
              "      <td>-0.075744</td>\n",
              "      <td>-0.053596</td>\n",
              "      <td>2.678250</td>\n",
              "      <td>4.902081</td>\n",
              "      <td>1.305872</td>\n",
              "      <td>3.974575</td>\n",
              "      <td>-4.017011</td>\n",
              "      <td>0.497592</td>\n",
              "      <td>2.622012</td>\n",
              "      <td>3.510295</td>\n",
              "      <td>5.571589</td>\n",
              "      <td>1.858084</td>\n",
              "      <td>1.275076</td>\n",
              "      <td>1.431372</td>\n",
              "      <td>1.339469</td>\n",
              "      <td>1.431372</td>\n",
              "      <td>1.327615</td>\n",
              "      <td>-0.277065</td>\n",
              "      <td>0.072397</td>\n",
              "      <td>-0.474030</td>\n",
              "      <td>1.696457</td>\n",
              "      <td>0.624359</td>\n",
              "      <td>4.322001</td>\n",
              "      <td>3.733127</td>\n",
              "      <td>4.323482</td>\n",
              "      <td>4.703823</td>\n",
              "      <td>-0.125924</td>\n",
              "      <td>0.816739</td>\n",
              "      <td>-1.592656</td>\n",
              "    </tr>\n",
              "    <tr>\n",
              "      <th>2</th>\n",
              "      <td>4.0</td>\n",
              "      <td>-1.571738</td>\n",
              "      <td>-1.203266</td>\n",
              "      <td>-1.010511</td>\n",
              "      <td>1.279424</td>\n",
              "      <td>-1.260755</td>\n",
              "      <td>-1.210094</td>\n",
              "      <td>-0.779940</td>\n",
              "      <td>-0.674133</td>\n",
              "      <td>-1.384923</td>\n",
              "      <td>-1.124406</td>\n",
              "      <td>-0.499231</td>\n",
              "      <td>-1.210094</td>\n",
              "      <td>-0.774450</td>\n",
              "      <td>-1.426188</td>\n",
              "      <td>-1.068934</td>\n",
              "      <td>-1.443185</td>\n",
              "      <td>-0.968089</td>\n",
              "      <td>-0.491566</td>\n",
              "      <td>0.920314</td>\n",
              "      <td>-0.407036</td>\n",
              "      <td>-1.788910</td>\n",
              "      <td>0.397719</td>\n",
              "      <td>1.808527</td>\n",
              "      <td>0.753432</td>\n",
              "      <td>-0.443873</td>\n",
              "      <td>-0.592752</td>\n",
              "      <td>-0.532923</td>\n",
              "      <td>-0.395840</td>\n",
              "      <td>-1.150745</td>\n",
              "      <td>-0.415409</td>\n",
              "      <td>-1.421966</td>\n",
              "      <td>-1.366481</td>\n",
              "      <td>-0.938343</td>\n",
              "      <td>-1.325625</td>\n",
              "      <td>-1.496249</td>\n",
              "      <td>-1.233778</td>\n",
              "      <td>-0.78509</td>\n",
              "      <td>-1.192312</td>\n",
              "      <td>-0.614179</td>\n",
              "      <td>...</td>\n",
              "      <td>0.614214</td>\n",
              "      <td>0.505422</td>\n",
              "      <td>0.616639</td>\n",
              "      <td>-1.609917</td>\n",
              "      <td>-1.284932</td>\n",
              "      <td>-0.525011</td>\n",
              "      <td>-1.955122</td>\n",
              "      <td>1.531645</td>\n",
              "      <td>3.390400</td>\n",
              "      <td>1.659025</td>\n",
              "      <td>-0.256108</td>\n",
              "      <td>-0.544840</td>\n",
              "      <td>1.731460</td>\n",
              "      <td>-0.553067</td>\n",
              "      <td>-0.855090</td>\n",
              "      <td>-0.336651</td>\n",
              "      <td>-0.302091</td>\n",
              "      <td>0.942871</td>\n",
              "      <td>0.213005</td>\n",
              "      <td>-1.249717</td>\n",
              "      <td>-1.760897</td>\n",
              "      <td>-0.599092</td>\n",
              "      <td>-0.878172</td>\n",
              "      <td>-1.272949</td>\n",
              "      <td>-1.139460</td>\n",
              "      <td>-0.608060</td>\n",
              "      <td>-1.139460</td>\n",
              "      <td>-0.545728</td>\n",
              "      <td>-1.359080</td>\n",
              "      <td>-0.783962</td>\n",
              "      <td>-3.236099</td>\n",
              "      <td>-1.059330</td>\n",
              "      <td>-1.064199</td>\n",
              "      <td>-1.293119</td>\n",
              "      <td>-0.950250</td>\n",
              "      <td>-1.296551</td>\n",
              "      <td>-1.109801</td>\n",
              "      <td>0.598197</td>\n",
              "      <td>0.612924</td>\n",
              "      <td>-3.260061</td>\n",
              "    </tr>\n",
              "    <tr>\n",
              "      <th>3</th>\n",
              "      <td>5.0</td>\n",
              "      <td>-1.571738</td>\n",
              "      <td>-1.203266</td>\n",
              "      <td>0.789103</td>\n",
              "      <td>1.279424</td>\n",
              "      <td>1.363989</td>\n",
              "      <td>1.560196</td>\n",
              "      <td>2.068789</td>\n",
              "      <td>0.903874</td>\n",
              "      <td>-0.056790</td>\n",
              "      <td>-0.367626</td>\n",
              "      <td>-0.499231</td>\n",
              "      <td>1.560196</td>\n",
              "      <td>1.632858</td>\n",
              "      <td>-0.260104</td>\n",
              "      <td>-0.436618</td>\n",
              "      <td>-0.341537</td>\n",
              "      <td>0.745508</td>\n",
              "      <td>-0.394695</td>\n",
              "      <td>0.753818</td>\n",
              "      <td>-0.031298</td>\n",
              "      <td>-1.210352</td>\n",
              "      <td>0.683672</td>\n",
              "      <td>3.829749</td>\n",
              "      <td>2.767611</td>\n",
              "      <td>-0.704749</td>\n",
              "      <td>-0.584019</td>\n",
              "      <td>-0.721657</td>\n",
              "      <td>-0.776698</td>\n",
              "      <td>0.909557</td>\n",
              "      <td>-0.415409</td>\n",
              "      <td>-1.421966</td>\n",
              "      <td>-1.366481</td>\n",
              "      <td>-0.938343</td>\n",
              "      <td>-1.325625</td>\n",
              "      <td>-1.496249</td>\n",
              "      <td>-1.233778</td>\n",
              "      <td>-0.78509</td>\n",
              "      <td>-1.192312</td>\n",
              "      <td>0.073076</td>\n",
              "      <td>...</td>\n",
              "      <td>-0.300671</td>\n",
              "      <td>1.377864</td>\n",
              "      <td>0.246483</td>\n",
              "      <td>-0.592242</td>\n",
              "      <td>-0.672561</td>\n",
              "      <td>-0.525011</td>\n",
              "      <td>-1.549276</td>\n",
              "      <td>0.249957</td>\n",
              "      <td>3.108399</td>\n",
              "      <td>2.227417</td>\n",
              "      <td>-0.780443</td>\n",
              "      <td>-0.548574</td>\n",
              "      <td>1.526356</td>\n",
              "      <td>0.085669</td>\n",
              "      <td>-0.150301</td>\n",
              "      <td>-0.128610</td>\n",
              "      <td>-0.185090</td>\n",
              "      <td>0.604003</td>\n",
              "      <td>-0.108592</td>\n",
              "      <td>-0.581880</td>\n",
              "      <td>-0.759541</td>\n",
              "      <td>-0.450785</td>\n",
              "      <td>0.753393</td>\n",
              "      <td>1.131696</td>\n",
              "      <td>1.231918</td>\n",
              "      <td>1.470510</td>\n",
              "      <td>1.231918</td>\n",
              "      <td>1.222312</td>\n",
              "      <td>-0.220326</td>\n",
              "      <td>0.716883</td>\n",
              "      <td>-1.248418</td>\n",
              "      <td>0.837316</td>\n",
              "      <td>0.411375</td>\n",
              "      <td>0.742712</td>\n",
              "      <td>0.358267</td>\n",
              "      <td>0.741921</td>\n",
              "      <td>0.998907</td>\n",
              "      <td>-0.174590</td>\n",
              "      <td>1.276614</td>\n",
              "      <td>-1.870682</td>\n",
              "    </tr>\n",
              "    <tr>\n",
              "      <th>4</th>\n",
              "      <td>3.0</td>\n",
              "      <td>-1.571738</td>\n",
              "      <td>-1.203266</td>\n",
              "      <td>-0.182138</td>\n",
              "      <td>1.279424</td>\n",
              "      <td>-1.018723</td>\n",
              "      <td>-0.872243</td>\n",
              "      <td>-0.484836</td>\n",
              "      <td>-0.561146</td>\n",
              "      <td>-1.441593</td>\n",
              "      <td>-1.124406</td>\n",
              "      <td>-0.499231</td>\n",
              "      <td>-0.872243</td>\n",
              "      <td>-0.549129</td>\n",
              "      <td>-1.462095</td>\n",
              "      <td>-1.068934</td>\n",
              "      <td>-1.557484</td>\n",
              "      <td>-1.133438</td>\n",
              "      <td>0.961502</td>\n",
              "      <td>0.410501</td>\n",
              "      <td>-0.238811</td>\n",
              "      <td>-0.636095</td>\n",
              "      <td>0.665308</td>\n",
              "      <td>0.945180</td>\n",
              "      <td>0.585077</td>\n",
              "      <td>-0.588804</td>\n",
              "      <td>-0.317663</td>\n",
              "      <td>-0.543577</td>\n",
              "      <td>-0.529781</td>\n",
              "      <td>-0.477972</td>\n",
              "      <td>-0.415409</td>\n",
              "      <td>-1.421966</td>\n",
              "      <td>-1.366481</td>\n",
              "      <td>-0.938343</td>\n",
              "      <td>-1.325625</td>\n",
              "      <td>-1.496249</td>\n",
              "      <td>-1.233778</td>\n",
              "      <td>-0.78509</td>\n",
              "      <td>-1.192312</td>\n",
              "      <td>-0.699657</td>\n",
              "      <td>...</td>\n",
              "      <td>0.608324</td>\n",
              "      <td>0.801047</td>\n",
              "      <td>0.436992</td>\n",
              "      <td>-1.777262</td>\n",
              "      <td>-1.284932</td>\n",
              "      <td>-0.525011</td>\n",
              "      <td>-0.658871</td>\n",
              "      <td>0.960371</td>\n",
              "      <td>1.169139</td>\n",
              "      <td>0.743339</td>\n",
              "      <td>-0.588332</td>\n",
              "      <td>-0.271804</td>\n",
              "      <td>0.466552</td>\n",
              "      <td>1.385832</td>\n",
              "      <td>4.174069</td>\n",
              "      <td>0.912205</td>\n",
              "      <td>2.272973</td>\n",
              "      <td>-4.069644</td>\n",
              "      <td>0.664037</td>\n",
              "      <td>3.799063</td>\n",
              "      <td>3.906828</td>\n",
              "      <td>4.384552</td>\n",
              "      <td>-0.030099</td>\n",
              "      <td>-0.905686</td>\n",
              "      <td>-0.707745</td>\n",
              "      <td>-0.219383</td>\n",
              "      <td>-0.707745</td>\n",
              "      <td>-0.261006</td>\n",
              "      <td>-1.492899</td>\n",
              "      <td>-0.991071</td>\n",
              "      <td>-0.376445</td>\n",
              "      <td>-0.306751</td>\n",
              "      <td>-1.404598</td>\n",
              "      <td>2.432377</td>\n",
              "      <td>2.760884</td>\n",
              "      <td>2.431327</td>\n",
              "      <td>2.746537</td>\n",
              "      <td>0.593641</td>\n",
              "      <td>0.853785</td>\n",
              "      <td>-0.419677</td>\n",
              "    </tr>\n",
              "  </tbody>\n",
              "</table>\n",
              "<p>5 rows × 121 columns</p>\n",
              "</div>"
            ],
            "text/plain": [
              "   RPE   Athlete  ...  log10_% Distance Zone 2  log10_% Time in HR Zone 1\n",
              "0  3.0 -1.571738  ...                -0.233498                  -1.711929\n",
              "1  7.0 -1.571738  ...                 0.816739                  -1.592656\n",
              "2  4.0 -1.571738  ...                 0.612924                  -3.260061\n",
              "3  5.0 -1.571738  ...                 1.276614                  -1.870682\n",
              "4  3.0 -1.571738  ...                 0.853785                  -0.419677\n",
              "\n",
              "[5 rows x 121 columns]"
            ]
          },
          "metadata": {
            "tags": []
          },
          "execution_count": 25
        }
      ]
    },
    {
      "cell_type": "code",
      "metadata": {
        "id": "3HU3__UJ-gW6",
        "outputId": "82343097-f07e-46e9-cfa5-ce967e555691",
        "colab": {
          "base_uri": "https://localhost:8080/",
          "height": 34
        }
      },
      "source": [
        "# Verify data shape\n",
        "data.shape"
      ],
      "execution_count": 26,
      "outputs": [
        {
          "output_type": "execute_result",
          "data": {
            "text/plain": [
              "(2128, 121)"
            ]
          },
          "metadata": {
            "tags": []
          },
          "execution_count": 26
        }
      ]
    },
    {
      "cell_type": "code",
      "metadata": {
        "id": "SW0gejZpCHfk",
        "outputId": "3109a8cf-dcf2-4e6d-e385-0546e6f0e372",
        "colab": {
          "base_uri": "https://localhost:8080/",
          "height": 34
        }
      },
      "source": [
        "# saving number of features for later use \n",
        "nb_feat = data.shape[1]\n",
        "print(nb_feat)"
      ],
      "execution_count": 27,
      "outputs": [
        {
          "output_type": "stream",
          "text": [
            "121\n"
          ],
          "name": "stdout"
        }
      ]
    },
    {
      "cell_type": "markdown",
      "metadata": {
        "id": "rdFIT1eN0oR4"
      },
      "source": [
        "# Global correlation matrix"
      ]
    },
    {
      "cell_type": "code",
      "metadata": {
        "id": "WN1JDtp-8h4E",
        "outputId": "1b42b7dc-5918-468d-98d4-45760aa2092f",
        "colab": {
          "base_uri": "https://localhost:8080/",
          "height": 758
        }
      },
      "source": [
        "corr_matrix=data.corr()\n",
        "\n",
        "plt.figure(figsize=(12,10))\n",
        "\n",
        "sns.heatmap(corr_matrix, annot=False, cmap=plt.cm.Reds)\n",
        "plt.show()"
      ],
      "execution_count": 28,
      "outputs": [
        {
          "output_type": "display_data",
          "data": {
            "image/png": "[encoded data removed]",
            "text/plain": [
              "<Figure size 864x720 with 2 Axes>"
            ]
          },
          "metadata": {
            "tags": [],
            "needs_background": "light"
          }
        }
      ]
    },
    {
      "cell_type": "markdown",
      "metadata": {
        "id": "QwZ-4hgYNGyy"
      },
      "source": [
        "# Train, test split\n"
      ]
    },
    {
      "cell_type": "markdown",
      "metadata": {
        "id": "TpZi4YTg6r1i"
      },
      "source": [
        "Create a train/test split with the training set representing 67% of the data and the test set the remaining 33%."
      ]
    },
    {
      "cell_type": "code",
      "metadata": {
        "id": "j7daVwqkOAcw"
      },
      "source": [
        "from sklearn.model_selection import train_test_split\n",
        "\n",
        "# Getting features...\n",
        "X = data.loc[:, data.columns != 'RPE']\n",
        "\n",
        "# ...and target\n",
        "y = data[\"RPE\"]\n",
        "\n",
        "# splitting dataset\n",
        "X_train, X_test, y_train, y_test = train_test_split(X, y, test_size=0.33)"
      ],
      "execution_count": 29,
      "outputs": []
    },
    {
      "cell_type": "markdown",
      "metadata": {
        "id": "7iQvgU6h67YC"
      },
      "source": [
        "We will now create multiple regression models and compare their RMSE value.\n",
        "\n",
        "We will also use a Kolmogorov-Smirnov test to ensure normal distribution of residuals."
      ]
    },
    {
      "cell_type": "markdown",
      "metadata": {
        "id": "RaFwoZqB1ApI"
      },
      "source": [
        "# Linear regression"
      ]
    },
    {
      "cell_type": "markdown",
      "metadata": {
        "id": "dKPjHt2U1DQZ"
      },
      "source": [
        "## Full"
      ]
    },
    {
      "cell_type": "code",
      "metadata": {
        "id": "AI-IARyRY7Rs",
        "outputId": "8fcd437b-1350-4242-c051-59f3dd9f7b88",
        "colab": {
          "base_uri": "https://localhost:8080/",
          "height": 1000
        }
      },
      "source": [
        "import statsmodels.api as sm\n",
        "from statsmodels.formula.api import ols\n",
        "import scipy as sp\n",
        "import scipy.stats as st\n",
        "\n",
        "X = sm.add_constant(X) #  constant\n",
        "\n",
        "model = sm.OLS(y, X).fit()\n",
        "\n",
        "print(model.summary())"
      ],
      "execution_count": 30,
      "outputs": [
        {
          "output_type": "stream",
          "text": [
            "                            OLS Regression Results                            \n",
            "==============================================================================\n",
            "Dep. Variable:                    RPE   R-squared:                       0.517\n",
            "Model:                            OLS   Adj. R-squared:                  0.490\n",
            "Method:                 Least Squares   F-statistic:                     19.22\n",
            "Date:                Wed, 30 Sep 2020   Prob (F-statistic):          8.80e-242\n",
            "Time:                        07:17:47   Log-Likelihood:                -2952.0\n",
            "No. Observations:                2128   AIC:                             6130.\n",
            "Df Residuals:                    2015   BIC:                             6770.\n",
            "Df Model:                         112                                         \n",
            "Covariance Type:            nonrobust                                         \n",
            "========================================================================================================\n",
            "                                           coef    std err          t      P>|t|      [0.025      0.975]\n",
            "--------------------------------------------------------------------------------------------------------\n",
            "const                                    4.0738      0.022    188.756      0.000       4.031       4.116\n",
            "Athlete                                  0.0943      0.028      3.366      0.001       0.039       0.149\n",
            "Position                                -0.1139      0.033     -3.487      0.000      -0.178      -0.050\n",
            "Duration                                 1.0361      0.477      2.172      0.030       0.101       1.972\n",
            "Squad                                    0.1115      0.050      2.218      0.027       0.013       0.210\n",
            "Distance                               -17.4488     11.658     -1.497      0.135     -40.313       5.415\n",
            "Distance Zone 1                      -9.906e+08   5.31e+08     -1.865      0.062   -2.03e+09    5.09e+07\n",
            "Distance Zone 2                      -1.061e+08   1.41e+08     -0.751      0.453   -3.83e+08    1.71e+08\n",
            "Distance Zone 3                      -8.704e+07   1.16e+08     -0.751      0.453   -3.14e+08     1.4e+08\n",
            "Distance Zone 4                       3.759e+08   3.64e+08      1.033      0.302   -3.38e+08    1.09e+09\n",
            "Distance Zone 5                       5.195e+08   4.33e+08      1.201      0.230   -3.29e+08    1.37e+09\n",
            "Distance Zone 6                       8.062e+07   6.71e+07      1.201      0.230    -5.1e+07    2.12e+08\n",
            "marche                                9.906e+08   5.31e+08      1.865      0.062   -5.09e+07    2.03e+09\n",
            "LSR                                   1.826e+08   2.43e+08      0.751      0.453   -2.94e+08     6.6e+08\n",
            "HSR                                  -5.933e+08   5.74e+08     -1.033      0.302   -1.72e+09    5.33e+08\n",
            "VHSR                                 -3.172e+08   4.47e+08     -0.709      0.478   -1.19e+09     5.6e+08\n",
            "Max Speed                               -0.0027      0.239     -0.011      0.991      -0.472       0.467\n",
            "M.min                                    0.2909      0.347      0.837      0.403      -0.390       0.972\n",
            "Max HR                                  -0.0410      0.030     -1.384      0.166      -0.099       0.017\n",
            "Avg HR                                   0.0661      0.048      1.364      0.173      -0.029       0.161\n",
            "HR Exertion                              0.0234      0.062      0.379      0.705      -0.098       0.144\n",
            "Time in HR Zone 1                       -1.0493      0.536     -1.959      0.050      -2.100       0.001\n",
            "Time in HR Zone 2                       -0.1183      0.188     -0.629      0.529      -0.487       0.251\n",
            "Time in HR Zone 3                       -0.5531      0.234     -2.362      0.018      -1.012      -0.094\n",
            "Time in HR Zone 4                       -0.4250      0.248     -1.712      0.087      -0.912       0.062\n",
            "Time in HR Zone 5                     3.298e+04   2.04e+04      1.613      0.107   -7116.810    7.31e+04\n",
            "Time in HR Zone 6                     1.564e+04   9694.133      1.613      0.107   -3374.392    3.46e+04\n",
            "TPS >85%HR                           -4.486e+04   2.78e+04     -1.613      0.107   -9.94e+04    9680.402\n",
            "% TPS >85%HR                             0.9844      1.340      0.735      0.463      -1.643       3.612\n",
            "Speed Exertion                           0.0594      0.324      0.183      0.855      -0.577       0.695\n",
            "Sprint Count                         -9.616e+07   1.93e+08     -0.499      0.618   -4.74e+08    2.81e+08\n",
            "Accelerations Zone 1                    -0.1148      0.081     -1.425      0.154      -0.273       0.043\n",
            "Accelerations Zone 2                  1.394e+09   2.79e+09      0.499      0.618   -4.08e+09    6.87e+09\n",
            "Accelerations Zone 3                  3.292e+08   6.59e+08      0.499      0.618   -9.64e+08    1.62e+09\n",
            "Acc >2,5m/s²                         -1.957e+09   3.92e+09     -0.499      0.618   -9.64e+09    5.73e+09\n",
            "Decelerations Zone 1                     0.0225      0.078      0.289      0.773      -0.130       0.175\n",
            "Decelerations Zone 2                    -0.9984      3.023     -0.330      0.741      -6.927       4.930\n",
            "Decelerations Zone 3                 -7.557e+07   1.51e+08     -0.499      0.618   -3.72e+08    2.21e+08\n",
            "Dec <-2,5m/s²                            1.4156      4.059      0.349      0.727      -6.544       9.375\n",
            "New Bodyload                            -0.1695      0.034     -4.963      0.000      -0.237      -0.103\n",
            "Impacts Zone 1                       -3.416e+08   1.27e+09     -0.269      0.788   -2.83e+09    2.15e+09\n",
            "Impacts Zone 2                       -8.907e+07   3.31e+08     -0.269      0.788   -7.39e+08    5.61e+08\n",
            "impact 1 + 2                          4.222e+08   1.57e+09      0.269      0.788   -2.66e+09     3.5e+09\n",
            "Impacts Zone 3                        3.067e+09   1.29e+09      2.385      0.017    5.45e+08    5.59e+09\n",
            "Impacts Zone 4                         9.66e+08   4.05e+08      2.385      0.017    1.72e+08    1.76e+09\n",
            "impact 3+ 4                           -3.83e+09   1.61e+09     -2.385      0.017   -6.98e+09   -6.81e+08\n",
            "Impacts Zone 5                       -8.494e+07   8.94e+08     -0.095      0.924   -1.84e+09    1.67e+09\n",
            "Impacts Zone 6                       -7.009e+07   7.38e+08     -0.095      0.924   -1.52e+09    1.38e+09\n",
            "impact 5+ 6                           1.462e+08   1.54e+09      0.095      0.924   -2.87e+09    3.16e+09\n",
            "Collisions                               0.0669      0.026      2.578      0.010       0.016       0.118\n",
            "Running Series                          -0.1292      0.085     -1.519      0.129      -0.296       0.038\n",
            "Running Imbalance                       -0.0366      0.024     -1.543      0.123      -0.083       0.010\n",
            "Running Imbalance Standard Deviation     0.0521      0.032      1.642      0.101      -0.010       0.114\n",
            "Running Symmetry Footstrikes             0.2959      0.092      3.218      0.001       0.116       0.476\n",
            "Metabolic Load Time Zone 1               0.0153      0.172      0.089      0.929      -0.322       0.352\n",
            "Metabolic Load Time Zone 2               0.1626      0.324      0.502      0.615      -0.472       0.797\n",
            "Metabolic Load Time Zone 3              -0.4514      0.551     -0.820      0.413      -1.532       0.629\n",
            "Metabolic Load Time Zone 4              -1.0331      0.488     -2.116      0.034      -1.991      -0.075\n",
            "Metabolic Load Time Zone 5              -0.4138      0.591     -0.700      0.484      -1.573       0.746\n",
            "Metabolic Load (relative)               -1.3484     19.033     -0.071      0.944     -38.675      35.978\n",
            "Metabolic Power Average                 -0.5342      0.324     -1.650      0.099      -1.169       0.101\n",
            "High-Metabolic-Power Distance          -80.8101     50.760     -1.592      0.112    -180.359      18.738\n",
            "VHMPD                                 6.818e+08   5.16e+08      1.321      0.187    -3.3e+08    1.69e+09\n",
            "Equivalent Distance                      2.2030     19.053      0.116      0.908     -35.163      39.569\n",
            "Metabolic Load Distance Zone 1           2.8487      2.273      1.253      0.210      -1.609       7.307\n",
            "Metabolic Load Distance Zone 2           2.2016      1.069      2.060      0.040       0.106       4.298\n",
            "Metabolic Load Distance Zone 3          39.0921     24.026      1.627      0.104      -8.027      86.211\n",
            "Metabolic Load Distance Zone 4       -2.535e+08   1.92e+08     -1.321      0.187    -6.3e+08    1.23e+08\n",
            "Metabolic Load Distance Zone 5       -4.979e+08   3.77e+08     -1.321      0.187   -1.24e+09    2.41e+08\n",
            "Metabolic Load (absolute)               -0.3482      0.323     -1.078      0.281      -0.981       0.285\n",
            "Temperature                              0.0488      0.027      1.832      0.067      -0.003       0.101\n",
            "Weather                                  0.0254      0.024      1.062      0.288      -0.022       0.072\n",
            "Grass                                   -0.0592      0.025     -2.347      0.019      -0.109      -0.010\n",
            "Sprint Total Distance                  8.06e+07   6.71e+07      1.201      0.230    -5.1e+07    2.12e+08\n",
            "Sum_AD                                2.069e+08   4.14e+08      0.499      0.618   -6.06e+08    1.02e+09\n",
            "HSR.min                                  0.9308      0.448      2.080      0.038       0.053       1.808\n",
            "SpTD.min                                 0.2091      0.164      1.274      0.203      -0.113       0.531\n",
            "Sum_AD.min                               0.0811      0.143      0.567      0.571      -0.199       0.362\n",
            "Impacts.min                             -0.1850      0.100     -1.851      0.064      -0.381       0.011\n",
            "HMPD.min                                -1.6665      0.858     -1.942      0.052      -3.349       0.016\n",
            "Sp_acc                                2.747e+08    5.5e+08      0.499      0.618   -8.04e+08    1.35e+09\n",
            "% Distance Zone 1                       -3.5882      3.358     -1.069      0.285     -10.174       2.997\n",
            "% Distance Zone 2                       -1.2226      1.694     -0.722      0.471      -4.545       2.100\n",
            "% Distance Zone 3                       -1.1493      1.420     -0.809      0.419      -3.935       1.636\n",
            "% Distance Zone 4                       -1.1979      1.404     -0.853      0.394      -3.952       1.556\n",
            "% Distance Zone 5                       -1.0722      1.044     -1.027      0.304      -3.119       0.975\n",
            "% Distance Zone 6                       -0.6831      0.399     -1.711      0.087      -1.466       0.100\n",
            "% Time in HR Zone 1                      0.8873      0.479      1.851      0.064      -0.053       1.828\n",
            "% Time in HR Zone 2                      0.1526      0.155      0.983      0.326      -0.152       0.457\n",
            "% Time in HR Zone 3                      0.5607      0.216      2.594      0.010       0.137       0.985\n",
            "% Time in HR Zone 4                      0.3397      0.226      1.505      0.132      -0.103       0.782\n",
            "% Time in HR Zone 5                     -0.1810      0.943     -0.192      0.848      -2.030       1.668\n",
            "% Time in HR Zone 6                     -0.0942      0.509     -0.185      0.853      -1.092       0.904\n",
            "% Metabolic Load Time Zone 1             0.0117      0.137      0.085      0.932      -0.258       0.281\n",
            "% Metabolic Load Time Zone 2            -0.3250      0.280     -1.162      0.245      -0.873       0.224\n",
            "% Metabolic Load Time Zone 3             0.7655      0.467      1.639      0.101      -0.151       1.682\n",
            "% Metabolic Load Time Zone 4             1.0542      0.480      2.194      0.028       0.112       1.997\n",
            "% Metabolic Load Time Zone 5             0.7568      0.471      1.608      0.108      -0.166       1.680\n",
            "% Metabolic Load Distance Zone 1        -0.8951      0.714     -1.253      0.210      -2.296       0.505\n",
            "% Metabolic Load Distance Zone 2        -0.7374      0.325     -2.267      0.023      -1.375      -0.100\n",
            "% Metabolic Load Distance Zone 3        -0.0047      0.303     -0.016      0.988      -0.599       0.589\n",
            "% Metabolic Load Distance Zone 4        -0.5618      0.216     -2.598      0.009      -0.986      -0.138\n",
            "% Metabolic Load Distance Zone 5        -0.5591      0.355     -1.576      0.115      -1.255       0.137\n",
            "log10_Duration                        1.401e+08   7.54e+07      1.858      0.063   -7.74e+06    2.88e+08\n",
            "log10_Distance                        2.863e+08   1.54e+08      1.858      0.063   -1.58e+07    5.88e+08\n",
            "log10_Distance Zone 1                 5.447e+08   2.93e+08      1.858      0.063   -3.01e+07    1.12e+09\n",
            "log10_Distance Zone 2                 1.643e+08   8.84e+07      1.858      0.063   -9.09e+06    3.38e+08\n",
            "log10_marche                         -1.093e+09   5.88e+08     -1.858      0.063   -2.25e+09    6.04e+07\n",
            "log10_LSR                               -1.1825      0.485     -2.437      0.015      -2.134      -0.231\n",
            "log10_Max Speed                          0.1298      0.241      0.540      0.590      -0.342       0.601\n",
            "log10_M.min                           2.181e+08   1.17e+08      1.859      0.063    -1.2e+07    4.48e+08\n",
            "log10_Time in HR Zone 1                3.89e+07   2.09e+07      1.859      0.063   -2.14e+06    7.99e+07\n",
            "log10_Speed Exertion                     0.0138      0.116      0.119      0.906      -0.214       0.242\n",
            "log10_New Bodyload                       0.5003      0.076      6.546      0.000       0.350       0.650\n",
            "log10_Metabolic Load (relative)          2.6359      8.900      0.296      0.767     -14.818      20.090\n",
            "log10_Metabolic Power Average            0.3436      0.415      0.828      0.408      -0.470       1.158\n",
            "log10_Equivalent Distance               -3.3100      8.955     -0.370      0.712     -20.871      14.251\n",
            "log10_Metabolic Load (absolute)          0.4382      0.228      1.925      0.054      -0.008       0.885\n",
            "log10_% Distance Zone 1               3.362e+08   1.81e+08      1.858      0.063   -1.86e+07    6.91e+08\n",
            "log10_% Distance Zone 2              -8.388e+07   4.51e+07     -1.858      0.063   -1.72e+08    4.64e+06\n",
            "log10_% Time in HR Zone 1            -3.355e+07    1.8e+07     -1.859      0.063   -6.89e+07    1.85e+06\n",
            "==============================================================================\n",
            "Omnibus:                       10.615   Durbin-Watson:                   1.514\n",
            "Prob(Omnibus):                  0.005   Jarque-Bera (JB):               10.612\n",
            "Skew:                           0.171   Prob(JB):                      0.00496\n",
            "Kurtosis:                       3.057   Cond. No.                     2.79e+16\n",
            "==============================================================================\n",
            "\n",
            "Warnings:\n",
            "[1] Standard Errors assume that the covariance matrix of the errors is correctly specified.\n",
            "[2] The smallest eigenvalue is 1.05e-28. This might indicate that there are\n",
            "strong multicollinearity problems or that the design matrix is singular.\n"
          ],
          "name": "stdout"
        }
      ]
    },
    {
      "cell_type": "code",
      "metadata": {
        "id": "l_F5uQvPa1Ak"
      },
      "source": [
        "from sklearn import linear_model\n",
        "\n",
        "# creating linear model\n",
        "lr = linear_model.LinearRegression()\n",
        "\n",
        "# training model\n",
        "lr.fit(X_train,y_train)\n",
        "\n",
        "# make prediction\n",
        "y_pred = lr.predict(X_test)\n",
        "\n",
        "from sklearn import metrics\n",
        "\n",
        "# calculate RMSE\n",
        "lr_rmse = np.sqrt(metrics.mean_squared_error(y_test, y_pred))"
      ],
      "execution_count": 31,
      "outputs": []
    },
    {
      "cell_type": "code",
      "metadata": {
        "id": "2U5InLesbg5z",
        "outputId": "de5e4b93-5fac-4d16-9f31-1ed045a24ac3",
        "colab": {
          "base_uri": "https://localhost:8080/",
          "height": 286
        }
      },
      "source": [
        "df = pd.DataFrame({'Actual': y_test, 'Predicted': y_pred})\n",
        "df1 = df\n",
        "df1 = df1.sort_values(\"Actual\")\n",
        "plt.scatter(df1.Actual,df1.Actual-df1.Predicted)\n",
        "plt.title('Residual variance', size=20)\n",
        "plt.hlines(0,min(df1.Actual),max(df1.Actual), color=\"gray\", linestyles=\"--\")\n",
        "plt.show()"
      ],
      "execution_count": 32,
      "outputs": [
        {
          "output_type": "display_data",
          "data": {
            "image/png": "[encoded data removed]",
            "text/plain": [
              "<Figure size 432x288 with 1 Axes>"
            ]
          },
          "metadata": {
            "tags": [],
            "needs_background": "light"
          }
        }
      ]
    },
    {
      "cell_type": "code",
      "metadata": {
        "id": "qZqxXH_bbg56",
        "outputId": "fa69c4fe-4a17-473b-a438-09623a86c15a",
        "colab": {
          "base_uri": "https://localhost:8080/",
          "height": 298
        }
      },
      "source": [
        "plt.hist(df1.Actual-df1.Predicted)\n",
        "plt.title('Histogram of residuals')"
      ],
      "execution_count": 33,
      "outputs": [
        {
          "output_type": "execute_result",
          "data": {
            "text/plain": [
              "Text(0.5, 1.0, 'Histogram of residuals')"
            ]
          },
          "metadata": {
            "tags": []
          },
          "execution_count": 33
        },
        {
          "output_type": "display_data",
          "data": {
            "image/png": "[encoded data removed]",
            "text/plain": [
              "<Figure size 432x288 with 1 Axes>"
            ]
          },
          "metadata": {
            "tags": [],
            "needs_background": "light"
          }
        }
      ]
    },
    {
      "cell_type": "code",
      "metadata": {
        "id": "jgW0x-INbg59"
      },
      "source": [
        "#Kolmogorov-Smirnov\n",
        "from scipy.stats import ks_2samp\n",
        "\n",
        "# calculate KS p-value\n",
        "lr_ks = ks_2samp(df1.Actual-df1.Predicted,list(np.random.normal(np.mean(df1.Actual-df1.Predicted), np.std(df1.Actual-df1.Predicted), 1000)))[1]"
      ],
      "execution_count": 34,
      "outputs": []
    },
    {
      "cell_type": "markdown",
      "metadata": {
        "id": "fqy-c1qjDvQm"
      },
      "source": [
        "## Filter method"
      ]
    },
    {
      "cell_type": "markdown",
      "metadata": {
        "id": "HzB5Mbd47ck6"
      },
      "source": [
        "Filter method use correlation to select variables. Variables with corr > 0.5 are kept."
      ]
    },
    {
      "cell_type": "code",
      "metadata": {
        "id": "oOkeYPIbZIPX",
        "outputId": "e0152bd4-d96f-440c-d91e-5b5eab517341",
        "colab": {
          "base_uri": "https://localhost:8080/",
          "height": 136
        }
      },
      "source": [
        "#Correlation with output variable\n",
        "cor_target = abs(corr_matrix[\"RPE\"])\n",
        "#Selecting highly correlated features\n",
        "relevant_features = cor_target[cor_target>0.5]\n",
        "relevant_features"
      ],
      "execution_count": 35,
      "outputs": [
        {
          "output_type": "execute_result",
          "data": {
            "text/plain": [
              "RPE                  1.000000\n",
              "Distance Zone 3      0.518897\n",
              "LSR                  0.501149\n",
              "HR Exertion          0.540188\n",
              "Time in HR Zone 5    0.523540\n",
              "TPS >85%HR           0.551665\n",
              "Name: RPE, dtype: float64"
            ]
          },
          "metadata": {
            "tags": []
          },
          "execution_count": 35
        }
      ]
    },
    {
      "cell_type": "code",
      "metadata": {
        "id": "Zh0NgmsAZYzv",
        "outputId": "a0849801-2f45-4fbb-a4c5-6b04deca06ad",
        "colab": {
          "base_uri": "https://localhost:8080/",
          "height": 596
        }
      },
      "source": [
        "plt.figure(figsize=(12,10))\n",
        "cor = data[[\"RPE\",\"Distance Zone 3\",\"LSR\",\"HR Exertion\",\"Time in HR Zone 5\",\"TPS >85%HR\"]].corr()\n",
        "sns.heatmap(cor, annot=True, cmap=plt.cm.Reds)\n",
        "plt.show()"
      ],
      "execution_count": 36,
      "outputs": [
        {
          "output_type": "display_data",
          "data": {
            "image/png": "[encoded data removed]",
            "text/plain": [
              "<Figure size 864x720 with 2 Axes>"
            ]
          },
          "metadata": {
            "tags": [],
            "needs_background": "light"
          }
        }
      ]
    },
    {
      "cell_type": "code",
      "metadata": {
        "id": "JM42tVLBayd2"
      },
      "source": [
        "# Getting features...\n",
        "X = X_train[[\"Distance Zone 3\",\"TPS >85%HR\"]]\n",
        "\n",
        "# ... target\n",
        "y = y_train\n",
        "\n",
        "# building model\n",
        "lrf = linear_model.LinearRegression()\n",
        "\n",
        "# training model\n",
        "lrf.fit(X,y)\n",
        "\n",
        "# making prediction\n",
        "y_pred = lrf.predict(X_test[[\"Distance Zone 3\",\"TPS >85%HR\"]])\n",
        "\n",
        "# getting model RMSE\n",
        "filter_rmse = np.sqrt(metrics.mean_squared_error(y_test, y_pred))"
      ],
      "execution_count": 37,
      "outputs": []
    },
    {
      "cell_type": "code",
      "metadata": {
        "id": "x26L1E6vjl3P",
        "outputId": "671d3319-8b3c-45d9-d378-b3fb8a231cab",
        "colab": {
          "base_uri": "https://localhost:8080/",
          "height": 286
        }
      },
      "source": [
        "df = pd.DataFrame({'Actual': y_test, 'Predicted': y_pred})\n",
        "df1 = df\n",
        "df1 = df1.sort_values(\"Actual\")\n",
        "plt.scatter(df1.Actual,df1.Actual-df1.Predicted)\n",
        "plt.title('Residual variance', size=20)\n",
        "plt.hlines(0,min(df1.Actual),max(df1.Actual), color=\"gray\", linestyles=\"--\")\n",
        "plt.show()"
      ],
      "execution_count": 38,
      "outputs": [
        {
          "output_type": "display_data",
          "data": {
            "image/png": "[encoded data removed]",
            "text/plain": [
              "<Figure size 432x288 with 1 Axes>"
            ]
          },
          "metadata": {
            "tags": [],
            "needs_background": "light"
          }
        }
      ]
    },
    {
      "cell_type": "code",
      "metadata": {
        "id": "grRBwgNn3430",
        "outputId": "43d144db-cc89-4ddc-8df3-861aef9b0005",
        "colab": {
          "base_uri": "https://localhost:8080/",
          "height": 298
        }
      },
      "source": [
        "plt.hist(df1.Actual-df1.Predicted)\n",
        "plt.title('Histogram of residuals')"
      ],
      "execution_count": 39,
      "outputs": [
        {
          "output_type": "execute_result",
          "data": {
            "text/plain": [
              "Text(0.5, 1.0, 'Histogram of residuals')"
            ]
          },
          "metadata": {
            "tags": []
          },
          "execution_count": 39
        },
        {
          "output_type": "display_data",
          "data": {
            "image/png": "[encoded data removed]",
            "text/plain": [
              "<Figure size 432x288 with 1 Axes>"
            ]
          },
          "metadata": {
            "tags": [],
            "needs_background": "light"
          }
        }
      ]
    },
    {
      "cell_type": "code",
      "metadata": {
        "id": "b9ZsTVqA3zkK"
      },
      "source": [
        "# calculate KS p-value\n",
        "filter_ks = ks_2samp(df1.Actual-df1.Predicted,list(np.random.normal(np.mean(df1.Actual-df1.Predicted), np.std(df1.Actual-df1.Predicted), 1000)))[1]"
      ],
      "execution_count": 40,
      "outputs": []
    },
    {
      "cell_type": "markdown",
      "metadata": {
        "id": "0m3A94M7I6zG"
      },
      "source": [
        "## Backward"
      ]
    },
    {
      "cell_type": "markdown",
      "metadata": {
        "id": "iYDycQQV7r1S"
      },
      "source": [
        "We feed all the possible features to the model at first. We check the performance of the model and then iteratively remove the worst performing features one by one till the overall performance of the model comes in acceptable range"
      ]
    },
    {
      "cell_type": "code",
      "metadata": {
        "id": "C6VdIVrXEvBV",
        "outputId": "90011158-7c54-44c2-a5b1-15c406080f7b",
        "colab": {
          "base_uri": "https://localhost:8080/",
          "height": 54
        }
      },
      "source": [
        "# Getting features...\n",
        "X = X_train\n",
        "\n",
        "# ...and target\n",
        "y = y_train\n",
        "\n",
        "#Backward Elimination\n",
        "cols = list(X.columns)\n",
        "pmax = 1\n",
        "while (len(cols)>0):\n",
        "    p= []\n",
        "    X_1 = X[cols]\n",
        "    X_1 = sm.add_constant(X_1)\n",
        "    model = sm.OLS(y,X_1).fit()\n",
        "    p = pd.Series(model.pvalues.values[1:],index = cols)      \n",
        "    pmax = max(p)\n",
        "    feature_with_p_max = p.idxmax()\n",
        "    if(pmax>0.05):\n",
        "        cols.remove(feature_with_p_max)\n",
        "    else:\n",
        "        break\n",
        "selected_features_BE = cols\n",
        "print(selected_features_BE)"
      ],
      "execution_count": 41,
      "outputs": [
        {
          "output_type": "stream",
          "text": [
            "['Athlete', 'Position', 'Duration', 'Distance', 'Distance Zone 1', 'Distance Zone 2', 'Distance Zone 3', 'Distance Zone 4', 'Distance Zone 5', 'marche', 'Time in HR Zone 1', 'Time in HR Zone 4', 'Time in HR Zone 6', 'Accelerations Zone 2', 'Acc >2,5m/s²', 'Decelerations Zone 2', 'Dec <-2,5m/s²', 'impact 3+ 4', 'Impacts Zone 6', 'Running Imbalance Standard Deviation', 'Metabolic Load Time Zone 2', 'High-Metabolic-Power Distance', 'VHMPD', 'Grass', 'Sprint Total Distance', 'Sum_AD', '% Distance Zone 1', '% Distance Zone 2', '% Distance Zone 3', '% Distance Zone 4', '% Distance Zone 5', '% Distance Zone 6', '% Metabolic Load Time Zone 5', '% Metabolic Load Distance Zone 2', '% Metabolic Load Distance Zone 5', 'log10_Duration', 'log10_Distance', 'log10_Distance Zone 1', 'log10_Distance Zone 2', 'log10_marche', 'log10_M.min', 'log10_Time in HR Zone 1', 'log10_New Bodyload', 'log10_Metabolic Load (absolute)', 'log10_% Distance Zone 1', 'log10_% Distance Zone 2', 'log10_% Time in HR Zone 1']\n"
          ],
          "name": "stdout"
        }
      ]
    },
    {
      "cell_type": "code",
      "metadata": {
        "id": "ybftZXcCFdtq",
        "outputId": "dc1c7fc2-f25b-4aca-a6d3-415d93b37c6e",
        "colab": {
          "base_uri": "https://localhost:8080/",
          "height": 34
        }
      },
      "source": [
        "# Number of features selected \n",
        "len(selected_features_BE)"
      ],
      "execution_count": 42,
      "outputs": [
        {
          "output_type": "execute_result",
          "data": {
            "text/plain": [
              "47"
            ]
          },
          "metadata": {
            "tags": []
          },
          "execution_count": 42
        }
      ]
    },
    {
      "cell_type": "code",
      "metadata": {
        "id": "idId2_2NGKNy"
      },
      "source": [
        "# Getting features...\n",
        "X = X_train.loc[:,selected_features_BE]\n",
        "\n",
        "# ...and target\n",
        "y = y_train\n",
        "\n",
        "# build model\n",
        "lrbw = linear_model.LinearRegression()\n",
        "\n",
        "# train model\n",
        "lrbw.fit(X,y)\n",
        "\n",
        "# make prediction\n",
        "y_pred = lrbw.predict(X_test.loc[:,selected_features_BE])\n",
        "\n",
        "# calculate rmse\n",
        "bw_rmse = np.sqrt(metrics.mean_squared_error(y_test, y_pred))"
      ],
      "execution_count": 43,
      "outputs": []
    },
    {
      "cell_type": "code",
      "metadata": {
        "id": "C6jJ4KpHjzKw",
        "outputId": "279b7012-67ab-414e-b2d4-e48495350de7",
        "colab": {
          "base_uri": "https://localhost:8080/",
          "height": 286
        }
      },
      "source": [
        "df = pd.DataFrame({'Actual': y_test, 'Predicted': y_pred})\n",
        "df1 = df\n",
        "df1 = df1.sort_values(\"Actual\")\n",
        "plt.scatter(df1.Actual,df1.Actual-df1.Predicted)\n",
        "plt.title('Residual variance', size=20)\n",
        "plt.hlines(0,min(df1.Actual),max(df1.Actual), color=\"gray\", linestyles=\"--\")\n",
        "plt.show()"
      ],
      "execution_count": 44,
      "outputs": [
        {
          "output_type": "display_data",
          "data": {
            "image/png": "[encoded data removed]",
            "text/plain": [
              "<Figure size 432x288 with 1 Axes>"
            ]
          },
          "metadata": {
            "tags": [],
            "needs_background": "light"
          }
        }
      ]
    },
    {
      "cell_type": "code",
      "metadata": {
        "id": "y3qtpvVwb4Mb",
        "outputId": "08a3a3e2-2f4e-4ba8-ed77-2653defde140",
        "colab": {
          "base_uri": "https://localhost:8080/",
          "height": 298
        }
      },
      "source": [
        "plt.hist(df1.Actual-df1.Predicted)\n",
        "plt.title('Histogram of residual')"
      ],
      "execution_count": 45,
      "outputs": [
        {
          "output_type": "execute_result",
          "data": {
            "text/plain": [
              "Text(0.5, 1.0, 'Histogram of residual')"
            ]
          },
          "metadata": {
            "tags": []
          },
          "execution_count": 45
        },
        {
          "output_type": "display_data",
          "data": {
            "image/png": "[encoded data removed]",
            "text/plain": [
              "<Figure size 432x288 with 1 Axes>"
            ]
          },
          "metadata": {
            "tags": [],
            "needs_background": "light"
          }
        }
      ]
    },
    {
      "cell_type": "code",
      "metadata": {
        "id": "3jY4fXgjcCAy"
      },
      "source": [
        "#Kolmogorov-Smirnov\n",
        "bw_ks = ks_2samp(df1.Actual-df1.Predicted,list(np.random.normal(np.mean(df1.Actual-df1.Predicted), np.std(df1.Actual-df1.Predicted), 1000)))[1]"
      ],
      "execution_count": 46,
      "outputs": []
    },
    {
      "cell_type": "markdown",
      "metadata": {
        "id": "u1bSnQRnI9gl"
      },
      "source": [
        "## RFE\n"
      ]
    },
    {
      "cell_type": "markdown",
      "metadata": {
        "id": "CUTNJmU68mD_"
      },
      "source": [
        "The Recursive Feature Elimination (RFE) method works by recursively removing attributes and building a model on those attributes that remain. It uses accuracy metric to rank the feature according to their importance."
      ]
    },
    {
      "cell_type": "code",
      "metadata": {
        "id": "ybyCUJ3lJf_w",
        "outputId": "942d4666-0a9e-4078-ae32-8214134737e0",
        "colab": {
          "base_uri": "https://localhost:8080/",
          "height": 34
        }
      },
      "source": [
        "from sklearn.feature_selection import RFE\n",
        "\n",
        "model = linear_model.LinearRegression()\n",
        "\n",
        "# Getting features...\n",
        "X = data.loc[:, data.columns != 'RPE']\n",
        "\n",
        "# .. and target\n",
        "y = data[\"RPE\"]\n",
        "\n",
        "#no of features\n",
        "nof_list=np.arange(1,nb_feat)            \n",
        "high_score=0\n",
        "\n",
        "#Variable to store the optimum features\n",
        "nof=0           \n",
        "score_list =[]\n",
        "for n in range(len(nof_list)):\n",
        "    X_train, X_test, y_train, y_test = train_test_split(X,y, test_size = 0.3, random_state = 0)\n",
        "    model = linear_model.LinearRegression()\n",
        "    rfe = RFE(model,nof_list[n])\n",
        "    X_train_rfe = rfe.fit_transform(X_train,y_train)\n",
        "    X_test_rfe = rfe.transform(X_test)\n",
        "    model.fit(X_train_rfe,y_train)\n",
        "    score = model.score(X_test_rfe,y_test)\n",
        "    score_list.append(score)\n",
        "    if(score>high_score):\n",
        "        high_score = score\n",
        "        nof = nof_list[n]\n",
        "print(\"Optimum number of features: %d\" %nof)"
      ],
      "execution_count": 47,
      "outputs": [
        {
          "output_type": "stream",
          "text": [
            "Optimum number of features: 28\n"
          ],
          "name": "stdout"
        }
      ]
    },
    {
      "cell_type": "code",
      "metadata": {
        "id": "KhGq9HmJKTG_",
        "outputId": "bab52be7-3748-4879-c98e-3f2bfd56fadd",
        "colab": {
          "base_uri": "https://localhost:8080/",
          "height": 187
        }
      },
      "source": [
        "cols = list(X.columns)\n",
        "model = linear_model.LinearRegression()\n",
        "#Initializing RFE model\n",
        "rfe = RFE(model, nof)             \n",
        "#Transforming data using RFE\n",
        "X_rfe = rfe.fit_transform(X,y)  \n",
        "#Fitting the data to model\n",
        "model.fit(X_rfe,y)              \n",
        "temp = pd.Series(rfe.support_,index = cols)\n",
        "selected_features_rfe = temp[temp==True].index\n",
        "print(selected_features_rfe)"
      ],
      "execution_count": 48,
      "outputs": [
        {
          "output_type": "stream",
          "text": [
            "Index(['Distance Zone 1', 'Distance Zone 6', 'marche', 'VHSR',\n",
            "       'Time in HR Zone 5', 'Time in HR Zone 6', 'TPS >85%HR', 'Sprint Count',\n",
            "       'Accelerations Zone 2', 'Accelerations Zone 3', 'Acc >2,5m/s²',\n",
            "       'Decelerations Zone 3', 'Impacts Zone 3', 'Impacts Zone 4',\n",
            "       'impact 3+ 4', 'Sprint Total Distance', 'Sum_AD', 'Sp_acc',\n",
            "       'log10_Duration', 'log10_Distance', 'log10_Distance Zone 1',\n",
            "       'log10_Distance Zone 2', 'log10_marche', 'log10_M.min',\n",
            "       'log10_Time in HR Zone 1', 'log10_% Distance Zone 1',\n",
            "       'log10_% Distance Zone 2', 'log10_% Time in HR Zone 1'],\n",
            "      dtype='object')\n"
          ],
          "name": "stdout"
        }
      ]
    },
    {
      "cell_type": "code",
      "metadata": {
        "id": "oXpsF8MsKzt6"
      },
      "source": [
        "# Getting features...\n",
        "X = X_train.loc[:,selected_features_rfe]\n",
        "\n",
        "# ... and target\n",
        "y = y_train\n",
        "\n",
        "# build model\n",
        "lr_rfe = linear_model.LinearRegression()\n",
        "\n",
        "# train model\n",
        "lr_rfe.fit(X,y)\n",
        "\n",
        "# making prediction\n",
        "y_pred = lr_rfe.predict(X_test.loc[:,selected_features_rfe])\n",
        "\n",
        "# calculate rmse\n",
        "rfe_rmse = np.sqrt(metrics.mean_squared_error(y_test, y_pred))"
      ],
      "execution_count": 49,
      "outputs": []
    },
    {
      "cell_type": "code",
      "metadata": {
        "id": "VpGV-lVNkToy",
        "outputId": "94f7f550-a39e-49c6-e061-1afdbaf0c8c3",
        "colab": {
          "base_uri": "https://localhost:8080/",
          "height": 286
        }
      },
      "source": [
        "df = pd.DataFrame({'Actual': y_test, 'Predicted': y_pred})\n",
        "df1 = df\n",
        "df1 = df1.sort_values(\"Actual\")\n",
        "plt.scatter(df1.Actual,df1.Actual-df1.Predicted)\n",
        "plt.title('Residual variance', size=20)\n",
        "plt.hlines(0,min(df1.Actual),max(df1.Actual), color=\"gray\", linestyles=\"--\")\n",
        "plt.show()"
      ],
      "execution_count": 50,
      "outputs": [
        {
          "output_type": "display_data",
          "data": {
            "image/png": "[encoded data removed]",
            "text/plain": [
              "<Figure size 432x288 with 1 Axes>"
            ]
          },
          "metadata": {
            "tags": [],
            "needs_background": "light"
          }
        }
      ]
    },
    {
      "cell_type": "code",
      "metadata": {
        "id": "tpR5oWUV6_nE",
        "outputId": "c50a695a-9db7-4a84-c5d1-844d9cbbcf21",
        "colab": {
          "base_uri": "https://localhost:8080/",
          "height": 298
        }
      },
      "source": [
        "plt.hist(df1.Actual-df1.Predicted)\n",
        "plt.title('Histogram of residual')"
      ],
      "execution_count": 51,
      "outputs": [
        {
          "output_type": "execute_result",
          "data": {
            "text/plain": [
              "Text(0.5, 1.0, 'Histogram of residual')"
            ]
          },
          "metadata": {
            "tags": []
          },
          "execution_count": 51
        },
        {
          "output_type": "display_data",
          "data": {
            "image/png": "[encoded data removed]",
            "text/plain": [
              "<Figure size 432x288 with 1 Axes>"
            ]
          },
          "metadata": {
            "tags": [],
            "needs_background": "light"
          }
        }
      ]
    },
    {
      "cell_type": "code",
      "metadata": {
        "id": "_G45LRugQN6f"
      },
      "source": [
        "# calculate KS p-value\n",
        "rfe_ks = ks_2samp(df1.Actual-df1.Predicted,list(np.random.normal(np.mean(df1.Actual-df1.Predicted), np.std(df1.Actual-df1.Predicted), 1000)))[1]"
      ],
      "execution_count": 52,
      "outputs": []
    },
    {
      "cell_type": "markdown",
      "metadata": {
        "id": "zrMx-0a0bHYp"
      },
      "source": [
        "# Ridge"
      ]
    },
    {
      "cell_type": "markdown",
      "metadata": {
        "id": "lRvUffUR-QsW"
      },
      "source": [
        "Ridge regression is a way to create a parsimonious model when the number of predictor variables in a set exceeds the number of observations, or when a data set has multicollinearity (correlations between predictor variables). The latter being our case here."
      ]
    },
    {
      "cell_type": "code",
      "metadata": {
        "id": "ONUmpvczMPPk"
      },
      "source": [
        "from sklearn.linear_model import Ridge\n",
        "from sklearn.linear_model import RidgeCV"
      ],
      "execution_count": 53,
      "outputs": []
    },
    {
      "cell_type": "code",
      "metadata": {
        "id": "5UdSmF6sG71Y"
      },
      "source": [
        "score = 'neg_root_mean_squared_error'\n",
        "\n",
        "rcv = RidgeCV(scoring = score)\n",
        "\n",
        "# train model with rfe selected features \n",
        "rcv.fit(X_train.loc[:,selected_features_rfe],y_train) \n",
        "\n",
        "# make prediction\n",
        "y_pred = rcv.predict(X_test.loc[:,selected_features_rfe])\n",
        "\n",
        "# calculate rmse\n",
        "ridge_rmse = np.sqrt(metrics.mean_squared_error(y_test, y_pred))"
      ],
      "execution_count": 54,
      "outputs": []
    },
    {
      "cell_type": "code",
      "metadata": {
        "id": "qj3xzwffkqq7",
        "outputId": "51b57169-0ea0-44bb-ae14-15994b53ed66",
        "colab": {
          "base_uri": "https://localhost:8080/",
          "height": 286
        }
      },
      "source": [
        "df = pd.DataFrame({'Actual': y_test, 'Predicted': y_pred})\n",
        "df1 = df\n",
        "df1 = df1.sort_values(\"Actual\")\n",
        "plt.scatter(df1.Actual,df1.Actual-df1.Predicted)\n",
        "plt.title('Residual variance', size=20)\n",
        "plt.hlines(0,min(df1.Actual),max(df1.Actual), color=\"gray\", linestyles=\"--\")\n",
        "plt.show()"
      ],
      "execution_count": 55,
      "outputs": [
        {
          "output_type": "display_data",
          "data": {
            "image/png": "[encoded data removed]",
            "text/plain": [
              "<Figure size 432x288 with 1 Axes>"
            ]
          },
          "metadata": {
            "tags": [],
            "needs_background": "light"
          }
        }
      ]
    },
    {
      "cell_type": "code",
      "metadata": {
        "id": "ZATS9yQ4cKgM",
        "outputId": "4da3ef47-3530-4d47-9bf3-98a9d49b4d7d",
        "colab": {
          "base_uri": "https://localhost:8080/",
          "height": 298
        }
      },
      "source": [
        "plt.hist(df1.Actual-df1.Predicted)\n",
        "plt.title('Histogram of residual')"
      ],
      "execution_count": 56,
      "outputs": [
        {
          "output_type": "execute_result",
          "data": {
            "text/plain": [
              "Text(0.5, 1.0, 'Histogram of residual')"
            ]
          },
          "metadata": {
            "tags": []
          },
          "execution_count": 56
        },
        {
          "output_type": "display_data",
          "data": {
            "image/png": "[encoded data removed]",
            "text/plain": [
              "<Figure size 432x288 with 1 Axes>"
            ]
          },
          "metadata": {
            "tags": [],
            "needs_background": "light"
          }
        }
      ]
    },
    {
      "cell_type": "code",
      "metadata": {
        "id": "xDyjsQ6lQLLH"
      },
      "source": [
        "# calculate KS p-value\n",
        "ridge_ks = ks_2samp(df1.Actual-df1.Predicted,list(np.random.normal(np.mean(df1.Actual-df1.Predicted), np.std(df1.Actual-df1.Predicted), 1000)))[1]"
      ],
      "execution_count": 57,
      "outputs": []
    },
    {
      "cell_type": "markdown",
      "metadata": {
        "id": "a-msZBwZcS6N"
      },
      "source": [
        "# Lasso"
      ]
    },
    {
      "cell_type": "markdown",
      "metadata": {
        "id": "7a6NDI6w8ZHS"
      },
      "source": [
        "Here we will do feature selection using Lasso regularization. If the feature is irrelevant, lasso penalizes it’s coefficient and make it 0. Hence the features with coefficient = 0 are removed and the rest are taken."
      ]
    },
    {
      "cell_type": "code",
      "metadata": {
        "id": "ZMxkWLvkcdjQ",
        "outputId": "f97940b1-d85a-4358-9904-ed670a4b8168",
        "colab": {
          "base_uri": "https://localhost:8080/",
          "height": 34
        }
      },
      "source": [
        "from sklearn.linear_model import LassoCV\n",
        "from sklearn.linear_model import Lasso\n",
        "\n",
        "# params\n",
        "n_alphas = 300\n",
        "alphas = np.logspace(-6, 0, n_alphas)\n",
        "\n",
        "# build model\n",
        "lcv = LassoCV(alphas=alphas, n_alphas = n_alphas)\n",
        "\n",
        "# training model\n",
        "lcv.fit(X_train,y_train)  \n",
        "\n",
        "coef = pd.Series(lcv.coef_, index = X_train.columns)\n",
        "print(\"Lasso picked \" + str(sum(coef != 0)) + \" variables and eliminated the other \" +  str(sum(coef == 0)) + \" variables\")\n"
      ],
      "execution_count": 58,
      "outputs": [
        {
          "output_type": "stream",
          "text": [
            "Lasso picked 65 variables and eliminated the other 55 variables\n"
          ],
          "name": "stdout"
        }
      ]
    },
    {
      "cell_type": "code",
      "metadata": {
        "id": "igZ2OmWX71qs",
        "outputId": "7c7c04ba-58f2-4a33-ddfb-6c1b4c3d60bb",
        "colab": {
          "base_uri": "https://localhost:8080/",
          "height": 624
        }
      },
      "source": [
        "imp_coef = coef.sort_values()\n",
        "import matplotlib\n",
        "matplotlib.rcParams['figure.figsize'] = (8.0, 10.0)\n",
        "imp_coef.plot(kind = \"barh\")\n",
        "plt.title(\"Feature importance using Lasso Model\")"
      ],
      "execution_count": 59,
      "outputs": [
        {
          "output_type": "execute_result",
          "data": {
            "text/plain": [
              "Text(0.5, 1.0, 'Feature importance using Lasso Model')"
            ]
          },
          "metadata": {
            "tags": []
          },
          "execution_count": 59
        },
        {
          "output_type": "display_data",
          "data": {
            "image/png": "[encoded data removed]",
            "text/plain": [
              "<Figure size 576x720 with 1 Axes>"
            ]
          },
          "metadata": {
            "tags": [],
            "needs_background": "light"
          }
        }
      ]
    },
    {
      "cell_type": "code",
      "metadata": {
        "id": "QpdpFChjXwyt"
      },
      "source": [
        "matplotlib.rcParams['figure.figsize'] = (6,4)"
      ],
      "execution_count": 60,
      "outputs": []
    },
    {
      "cell_type": "code",
      "metadata": {
        "id": "jhlx9v3SMjfL",
        "outputId": "57ddf226-c275-47e0-a96d-e5b405734458",
        "colab": {
          "base_uri": "https://localhost:8080/",
          "height": 408
        }
      },
      "source": [
        "imp_coef[imp_coef != 0].index"
      ],
      "execution_count": 61,
      "outputs": [
        {
          "output_type": "execute_result",
          "data": {
            "text/plain": [
              "Index(['log10_LSR', '% Distance Zone 6', '% Time in HR Zone 1',\n",
              "       'Distance Zone 4', 'Speed Exertion', '% Metabolic Load Distance Zone 5',\n",
              "       'New Bodyload', '% Distance Zone 5', 'Impacts Zone 2',\n",
              "       '% Time in HR Zone 4', 'Impacts.min', 'log10_Distance',\n",
              "       'Time in HR Zone 3', 'Position', 'Accelerations Zone 1',\n",
              "       'Metabolic Load Distance Zone 3', '% Metabolic Load Distance Zone 4',\n",
              "       'log10_Metabolic Power Average', 'log10_Distance Zone 1', 'Max HR',\n",
              "       'Grass', 'Decelerations Zone 1', 'log10_marche', '% Distance Zone 3',\n",
              "       'Time in HR Zone 4', 'Impacts Zone 5', 'Impacts Zone 4',\n",
              "       'Running Imbalance', 'Sprint Total Distance',\n",
              "       '% Metabolic Load Time Zone 1', 'Equivalent Distance',\n",
              "       'Time in HR Zone 2', 'Distance Zone 1', 'Weather', 'HR Exertion',\n",
              "       'Decelerations Zone 2', '% Metabolic Load Time Zone 4',\n",
              "       'Metabolic Load (relative)', 'Metabolic Load Time Zone 5', 'Athlete',\n",
              "       'Collisions', 'Running Imbalance Standard Deviation', 'VHMPD',\n",
              "       '% Time in HR Zone 6', 'Temperature', '% TPS >85%HR',\n",
              "       'log10_Speed Exertion', 'Accelerations Zone 2', 'marche', 'Avg HR',\n",
              "       'Max Speed', 'Running Symmetry Footstrikes', 'Time in HR Zone 6',\n",
              "       'Impacts Zone 1', 'Sum_AD.min', '% Distance Zone 4', 'SpTD.min',\n",
              "       'Metabolic Load Distance Zone 2', 'Squad', 'Impacts Zone 6',\n",
              "       'Metabolic Load Distance Zone 4', 'Distance Zone 6', 'Distance Zone 3',\n",
              "       'Duration', 'log10_New Bodyload'],\n",
              "      dtype='object')"
            ]
          },
          "metadata": {
            "tags": []
          },
          "execution_count": 61
        }
      ]
    },
    {
      "cell_type": "code",
      "metadata": {
        "id": "8-RAh-0m8C3o"
      },
      "source": [
        "# making prediction\n",
        "y_pred = lcv.predict(X_test)\n",
        "\n",
        "# calculate model rmse\n",
        "lasso_rmse = np.sqrt(metrics.mean_squared_error(y_test, y_pred))"
      ],
      "execution_count": 62,
      "outputs": []
    },
    {
      "cell_type": "code",
      "metadata": {
        "id": "L0jCKdGIlKrV",
        "outputId": "42075b18-19c0-455f-e61f-bbaef3f7eaec",
        "colab": {
          "base_uri": "https://localhost:8080/",
          "height": 286
        }
      },
      "source": [
        "df = pd.DataFrame({'Actual': y_test, 'Predicted': y_pred})\n",
        "df1 = df\n",
        "df1 = df1.sort_values(\"Actual\")\n",
        "plt.scatter(df1.Actual,df1.Actual-df1.Predicted)\n",
        "plt.title('Residual variance', size=20)\n",
        "plt.hlines(0,min(df1.Actual),max(df1.Actual), color=\"gray\", linestyles=\"--\")\n",
        "plt.show()"
      ],
      "execution_count": 63,
      "outputs": [
        {
          "output_type": "display_data",
          "data": {
            "image/png": "[encoded data removed]",
            "text/plain": [
              "<Figure size 432x288 with 1 Axes>"
            ]
          },
          "metadata": {
            "tags": [],
            "needs_background": "light"
          }
        }
      ]
    },
    {
      "cell_type": "code",
      "metadata": {
        "id": "mDOHBLGXcMPH",
        "outputId": "4e13c347-a1be-43f4-b074-6f7ef0c3f4b0",
        "colab": {
          "base_uri": "https://localhost:8080/",
          "height": 298
        }
      },
      "source": [
        "plt.hist(df1.Actual-df1.Predicted)\n",
        "plt.title('Histogram of residual')"
      ],
      "execution_count": 64,
      "outputs": [
        {
          "output_type": "execute_result",
          "data": {
            "text/plain": [
              "Text(0.5, 1.0, 'Histogram of residual')"
            ]
          },
          "metadata": {
            "tags": []
          },
          "execution_count": 64
        },
        {
          "output_type": "display_data",
          "data": {
            "image/png": "[encoded data removed]",
            "text/plain": [
              "<Figure size 432x288 with 1 Axes>"
            ]
          },
          "metadata": {
            "tags": [],
            "needs_background": "light"
          }
        }
      ]
    },
    {
      "cell_type": "code",
      "metadata": {
        "id": "1JZImTG1cMPL"
      },
      "source": [
        "#Kolmogorov-Smirnov\n",
        "lasso_ks = ks_2samp(df1.Actual-df1.Predicted,list(np.random.normal(np.mean(df1.Actual-df1.Predicted), np.std(df1.Actual-df1.Predicted), 1000)))[1]"
      ],
      "execution_count": 65,
      "outputs": []
    },
    {
      "cell_type": "markdown",
      "metadata": {
        "id": "Ty7sNp2f-dfG"
      },
      "source": [
        "# kNN Regressor"
      ]
    },
    {
      "cell_type": "markdown",
      "metadata": {
        "id": "5spIgLvL-ysE"
      },
      "source": [
        "The KNN algorithm uses ‘feature similarity’ to predict the values of any new data points. This means that the new point is assigned a value based on how closely it resembles the points in the training set."
      ]
    },
    {
      "cell_type": "code",
      "metadata": {
        "id": "P5L14Rlf-clo"
      },
      "source": [
        "from sklearn import neighbors, metrics\n",
        "from sklearn import model_selection"
      ],
      "execution_count": 66,
      "outputs": []
    },
    {
      "cell_type": "code",
      "metadata": {
        "id": "F1a2pZgaAqLP",
        "outputId": "b191e975-6c77-4af0-d1f9-5fd2fa535bb1",
        "colab": {
          "base_uri": "https://localhost:8080/",
          "height": 476
        }
      },
      "source": [
        "# nb of neighbors\n",
        "nb_k = np.arange(1,25,1)\n",
        "\n",
        "# params to test\n",
        "param_grid = {'n_neighbors': nb_k}\n",
        "\n",
        "# scoring choice : rmse\n",
        "score = 'neg_root_mean_squared_error'\n",
        "\n",
        "# making model\n",
        "reg = model_selection.GridSearchCV(\n",
        "    neighbors.KNeighborsRegressor(), #  regressor kNN\n",
        "    param_grid,     \n",
        "    cv=5,          \n",
        "    scoring=score  \n",
        ")\n",
        "\n",
        "# train model\n",
        "reg.fit(X_train, y_train)\n",
        "\n",
        "# Show params\n",
        "print(\"Meilleur(s) hyperparamètre(s) sur le jeu d'entraînement:\")\n",
        "print(reg.best_params_)\n",
        "\n",
        "# and perfs\n",
        "print(\"Résultats de la validation croisée :\")\n",
        "for mean, std, params in zip(\n",
        "        reg.cv_results_['mean_test_score'], \n",
        "        reg.cv_results_['std_test_score'],  \n",
        "        reg.cv_results_['params']           \n",
        "    ):\n",
        "\n",
        "    print(\"{} = {:.3f} (+/-{:.03f}) for {}\".format(\n",
        "        score,\n",
        "        mean,\n",
        "        std*2,\n",
        "        params\n",
        "    ) )\n"
      ],
      "execution_count": 67,
      "outputs": [
        {
          "output_type": "stream",
          "text": [
            "Meilleur(s) hyperparamètre(s) sur le jeu d'entraînement:\n",
            "{'n_neighbors': 8}\n",
            "Résultats de la validation croisée :\n",
            "neg_root_mean_squared_error = -1.198 (+/-0.079) for {'n_neighbors': 1}\n",
            "neg_root_mean_squared_error = -1.053 (+/-0.078) for {'n_neighbors': 2}\n",
            "neg_root_mean_squared_error = -1.020 (+/-0.041) for {'n_neighbors': 3}\n",
            "neg_root_mean_squared_error = -1.007 (+/-0.038) for {'n_neighbors': 4}\n",
            "neg_root_mean_squared_error = -1.007 (+/-0.032) for {'n_neighbors': 5}\n",
            "neg_root_mean_squared_error = -1.002 (+/-0.026) for {'n_neighbors': 6}\n",
            "neg_root_mean_squared_error = -0.998 (+/-0.022) for {'n_neighbors': 7}\n",
            "neg_root_mean_squared_error = -0.997 (+/-0.017) for {'n_neighbors': 8}\n",
            "neg_root_mean_squared_error = -0.998 (+/-0.016) for {'n_neighbors': 9}\n",
            "neg_root_mean_squared_error = -1.002 (+/-0.023) for {'n_neighbors': 10}\n",
            "neg_root_mean_squared_error = -1.006 (+/-0.035) for {'n_neighbors': 11}\n",
            "neg_root_mean_squared_error = -1.002 (+/-0.032) for {'n_neighbors': 12}\n",
            "neg_root_mean_squared_error = -1.004 (+/-0.041) for {'n_neighbors': 13}\n",
            "neg_root_mean_squared_error = -1.008 (+/-0.044) for {'n_neighbors': 14}\n",
            "neg_root_mean_squared_error = -1.009 (+/-0.047) for {'n_neighbors': 15}\n",
            "neg_root_mean_squared_error = -1.010 (+/-0.045) for {'n_neighbors': 16}\n",
            "neg_root_mean_squared_error = -1.012 (+/-0.051) for {'n_neighbors': 17}\n",
            "neg_root_mean_squared_error = -1.016 (+/-0.054) for {'n_neighbors': 18}\n",
            "neg_root_mean_squared_error = -1.017 (+/-0.056) for {'n_neighbors': 19}\n",
            "neg_root_mean_squared_error = -1.020 (+/-0.058) for {'n_neighbors': 20}\n",
            "neg_root_mean_squared_error = -1.023 (+/-0.066) for {'n_neighbors': 21}\n",
            "neg_root_mean_squared_error = -1.025 (+/-0.072) for {'n_neighbors': 22}\n",
            "neg_root_mean_squared_error = -1.027 (+/-0.073) for {'n_neighbors': 23}\n",
            "neg_root_mean_squared_error = -1.030 (+/-0.079) for {'n_neighbors': 24}\n"
          ],
          "name": "stdout"
        }
      ]
    },
    {
      "cell_type": "code",
      "metadata": {
        "id": "zKtEefcbBleA"
      },
      "source": [
        "# make prediction\n",
        "y_pred = reg.predict(X_test)\n",
        "\n",
        "# calculate model rmse\n",
        "knn_rmse = np.sqrt(metrics.mean_squared_error(y_test, y_pred))"
      ],
      "execution_count": 68,
      "outputs": []
    },
    {
      "cell_type": "code",
      "metadata": {
        "id": "re1zU25CC1xZ",
        "outputId": "d19fd039-d72c-427e-b014-07084116d367",
        "colab": {
          "base_uri": "https://localhost:8080/",
          "height": 286
        }
      },
      "source": [
        "df = pd.DataFrame({'Actual': y_test, 'Predicted': y_pred})\n",
        "df1 = df\n",
        "df1 = df1.sort_values(\"Actual\")\n",
        "plt.scatter(df1.Actual,df1.Actual-df1.Predicted)\n",
        "plt.title('Residual variance', size=20)\n",
        "plt.hlines(0,min(df1.Actual),max(df1.Actual), color=\"gray\", linestyles=\"--\")\n",
        "plt.show()"
      ],
      "execution_count": 69,
      "outputs": [
        {
          "output_type": "display_data",
          "data": {
            "image/png": "[encoded data removed]",
            "text/plain": [
              "<Figure size 432x288 with 1 Axes>"
            ]
          },
          "metadata": {
            "tags": [],
            "needs_background": "light"
          }
        }
      ]
    },
    {
      "cell_type": "code",
      "metadata": {
        "id": "tipOQ3zgC7oL",
        "outputId": "da0c6222-d76a-4ed6-995a-0ebb1f103393",
        "colab": {
          "base_uri": "https://localhost:8080/",
          "height": 298
        }
      },
      "source": [
        "plt.hist(df1.Actual-df1.Predicted)\n",
        "plt.title('Histogram of residual')"
      ],
      "execution_count": 70,
      "outputs": [
        {
          "output_type": "execute_result",
          "data": {
            "text/plain": [
              "Text(0.5, 1.0, 'Histogram of residual')"
            ]
          },
          "metadata": {
            "tags": []
          },
          "execution_count": 70
        },
        {
          "output_type": "display_data",
          "data": {
            "image/png": "[encoded data removed]",
            "text/plain": [
              "<Figure size 432x288 with 1 Axes>"
            ]
          },
          "metadata": {
            "tags": [],
            "needs_background": "light"
          }
        }
      ]
    },
    {
      "cell_type": "code",
      "metadata": {
        "id": "abtagahDC7oQ"
      },
      "source": [
        "#Kolmogorov-Smirnov\n",
        "knn_ks = ks_2samp(df1.Actual-df1.Predicted,list(np.random.normal(np.mean(df1.Actual-df1.Predicted), np.std(df1.Actual-df1.Predicted), 1000)))[1]"
      ],
      "execution_count": 71,
      "outputs": []
    },
    {
      "cell_type": "markdown",
      "metadata": {
        "id": "24_7brqXb_4N"
      },
      "source": [
        "# NN"
      ]
    },
    {
      "cell_type": "code",
      "metadata": {
        "id": "aPw1ZpAW-kfS",
        "outputId": "60706516-8f7c-4465-e1a9-4df56f1b67f9",
        "colab": {
          "base_uri": "https://localhost:8080/",
          "height": 34
        }
      },
      "source": [
        "import pathlib\n",
        "\n",
        "import matplotlib.pyplot as plt\n",
        "import numpy as np\n",
        "import pandas as pd\n",
        "import seaborn as sns\n",
        "import tensorflow as tf\n",
        "\n",
        "from tensorflow import keras\n",
        "from tensorflow.keras import layers\n",
        "\n",
        "print(tf.__version__)"
      ],
      "execution_count": 72,
      "outputs": [
        {
          "output_type": "stream",
          "text": [
            "2.3.0\n"
          ],
          "name": "stdout"
        }
      ]
    },
    {
      "cell_type": "code",
      "metadata": {
        "id": "tSuv4wFRCd1V",
        "outputId": "b177e442-b912-4126-f78c-c3d1e7c69467",
        "colab": {
          "base_uri": "https://localhost:8080/",
          "height": 309
        }
      },
      "source": [
        "# Use some functions from tensorflow_docs\n",
        "!pip install git+https://github.com/tensorflow/docs"
      ],
      "execution_count": 73,
      "outputs": [
        {
          "output_type": "stream",
          "text": [
            "Collecting git+https://github.com/tensorflow/docs\n",
            "  Cloning https://github.com/tensorflow/docs to /tmp/pip-req-build-pibd2_jm\n",
            "  Running command git clone -q https://github.com/tensorflow/docs /tmp/pip-req-build-pibd2_jm\n",
            "Requirement already satisfied: astor in /usr/local/lib/python3.6/dist-packages (from tensorflow-docs===0.0.0d522e325039fbc2f6c77da1d5632affe634fd0e8-) (0.8.1)\n",
            "Requirement already satisfied: absl-py in /usr/local/lib/python3.6/dist-packages (from tensorflow-docs===0.0.0d522e325039fbc2f6c77da1d5632affe634fd0e8-) (0.10.0)\n",
            "Requirement already satisfied: protobuf in /usr/local/lib/python3.6/dist-packages (from tensorflow-docs===0.0.0d522e325039fbc2f6c77da1d5632affe634fd0e8-) (3.12.4)\n",
            "Requirement already satisfied: pyyaml in /usr/local/lib/python3.6/dist-packages (from tensorflow-docs===0.0.0d522e325039fbc2f6c77da1d5632affe634fd0e8-) (3.13)\n",
            "Requirement already satisfied: six in /usr/local/lib/python3.6/dist-packages (from absl-py->tensorflow-docs===0.0.0d522e325039fbc2f6c77da1d5632affe634fd0e8-) (1.15.0)\n",
            "Requirement already satisfied: setuptools in /usr/local/lib/python3.6/dist-packages (from protobuf->tensorflow-docs===0.0.0d522e325039fbc2f6c77da1d5632affe634fd0e8-) (50.3.0)\n",
            "Building wheels for collected packages: tensorflow-docs\n",
            "  Building wheel for tensorflow-docs (setup.py) ... \u001b[?25l\u001b[?25hdone\n",
            "  Created wheel for tensorflow-docs: filename=tensorflow_docs-0.0.0d522e325039fbc2f6c77da1d5632affe634fd0e8_-cp36-none-any.whl size=143849 sha256=bbaabe87dbadc16e07407fecbb0707b789b8555081a39ecf4fd0a334a4f67d73\n",
            "  Stored in directory: /tmp/pip-ephem-wheel-cache-8gniav_i/wheels/eb/1b/35/fce87697be00d2fc63e0b4b395b0d9c7e391a10e98d9a0d97f\n",
            "Successfully built tensorflow-docs\n",
            "Installing collected packages: tensorflow-docs\n",
            "Successfully installed tensorflow-docs-0.0.0d522e325039fbc2f6c77da1d5632affe634fd0e8-\n"
          ],
          "name": "stdout"
        }
      ]
    },
    {
      "cell_type": "code",
      "metadata": {
        "id": "C35USX_SCVFV"
      },
      "source": [
        "import tensorflow_docs as tfdocs\n",
        "import tensorflow_docs.plots\n",
        "import tensorflow_docs.modeling"
      ],
      "execution_count": 74,
      "outputs": []
    },
    {
      "cell_type": "code",
      "metadata": {
        "id": "6vqaAW8iH2C1",
        "outputId": "656bc373-1aad-4c79-82bb-934a85917624",
        "colab": {
          "base_uri": "https://localhost:8080/",
          "height": 255
        }
      },
      "source": [
        "# create function to build model\n",
        "def build_model():\n",
        "  model = keras.Sequential([\n",
        "    layers.Dense(64,activation='relu', input_shape=[len(X_train.keys())]),\n",
        "    layers.Dense(64,activation='relu'),\n",
        "    layers.Dense(1)\n",
        "  ])\n",
        "\n",
        "  optimizer = tf.keras.optimizers.RMSprop(0.001)\n",
        "\n",
        "  model.compile(loss='mse',\n",
        "                optimizer=optimizer,\n",
        "                metrics=['mae', 'mse'])\n",
        "  return model\n",
        "\n",
        "# build model\n",
        "model = build_model()\n",
        "\n",
        "model.summary()"
      ],
      "execution_count": 75,
      "outputs": [
        {
          "output_type": "stream",
          "text": [
            "Model: \"sequential\"\n",
            "_________________________________________________________________\n",
            "Layer (type)                 Output Shape              Param #   \n",
            "=================================================================\n",
            "dense (Dense)                (None, 64)                7744      \n",
            "_________________________________________________________________\n",
            "dense_1 (Dense)              (None, 64)                4160      \n",
            "_________________________________________________________________\n",
            "dense_2 (Dense)              (None, 1)                 65        \n",
            "=================================================================\n",
            "Total params: 11,969\n",
            "Trainable params: 11,969\n",
            "Non-trainable params: 0\n",
            "_________________________________________________________________\n"
          ],
          "name": "stdout"
        }
      ]
    },
    {
      "cell_type": "code",
      "metadata": {
        "id": "G21CgvJgH2C9",
        "outputId": "140c450f-d1a3-4c94-e1c3-5f86ef3a6530",
        "colab": {
          "base_uri": "https://localhost:8080/",
          "height": 68
        }
      },
      "source": [
        "EPOCHS = 1000\n",
        "\n",
        "# The patience parameter is the amount of epochs to check for improvement\n",
        "early_stop = keras.callbacks.EarlyStopping(monitor='val_loss', patience=10)\n",
        "\n",
        "model.fit(X_train,y_train, \n",
        "                    epochs=EPOCHS, validation_split = 0.2, verbose=0, \n",
        "                    callbacks=[early_stop, tfdocs.modeling.EpochDots()])"
      ],
      "execution_count": 76,
      "outputs": [
        {
          "output_type": "stream",
          "text": [
            "\n",
            "Epoch: 0, loss:3.3040,  mae:1.4083,  mse:3.3040,  val_loss:2.1010,  val_mae:1.1434,  val_mse:2.1010,  \n",
            "...................."
          ],
          "name": "stdout"
        },
        {
          "output_type": "execute_result",
          "data": {
            "text/plain": [
              "<tensorflow.python.keras.callbacks.History at 0x7fa8752f1978>"
            ]
          },
          "metadata": {
            "tags": []
          },
          "execution_count": 76
        }
      ]
    },
    {
      "cell_type": "code",
      "metadata": {
        "id": "4gyHr8XdH2DB"
      },
      "source": [
        "# make prediction\n",
        "y_pred = model.predict(X_test).flatten()\n",
        "\n",
        "# Calculate model rmse\n",
        "nn_rmse = np.sqrt(metrics.mean_squared_error(y_test, y_pred))"
      ],
      "execution_count": 77,
      "outputs": []
    },
    {
      "cell_type": "code",
      "metadata": {
        "id": "1lEFjhZDltzM",
        "outputId": "76be4cda-2665-42b0-8d1f-8042071f5632",
        "colab": {
          "base_uri": "https://localhost:8080/",
          "height": 286
        }
      },
      "source": [
        "df = pd.DataFrame({'Actual': y_test, 'Predicted': y_pred})\n",
        "df1 = df\n",
        "df1 = df1.sort_values(\"Actual\")\n",
        "plt.scatter(df1.Actual,df1.Actual-df1.Predicted)\n",
        "plt.title('Residual variance', size=20)\n",
        "plt.hlines(0,min(df1.Actual),max(df1.Actual), color=\"gray\", linestyles=\"--\")\n",
        "plt.show()"
      ],
      "execution_count": 78,
      "outputs": [
        {
          "output_type": "display_data",
          "data": {
            "image/png": "[encoded data removed]",
            "text/plain": [
              "<Figure size 432x288 with 1 Axes>"
            ]
          },
          "metadata": {
            "tags": [],
            "needs_background": "light"
          }
        }
      ]
    },
    {
      "cell_type": "code",
      "metadata": {
        "id": "d7NRtA6XyZSB",
        "outputId": "b7d3104b-8a19-4502-b27f-e7ac619f2b02",
        "colab": {
          "base_uri": "https://localhost:8080/",
          "height": 298
        }
      },
      "source": [
        "plt.hist(df1.Actual-df1.Predicted)\n",
        "plt.title('Histogram of residual')"
      ],
      "execution_count": 79,
      "outputs": [
        {
          "output_type": "execute_result",
          "data": {
            "text/plain": [
              "Text(0.5, 1.0, 'Histogram of residual')"
            ]
          },
          "metadata": {
            "tags": []
          },
          "execution_count": 79
        },
        {
          "output_type": "display_data",
          "data": {
            "image/png": "[encoded data removed]",
            "text/plain": [
              "<Figure size 432x288 with 1 Axes>"
            ]
          },
          "metadata": {
            "tags": [],
            "needs_background": "light"
          }
        }
      ]
    },
    {
      "cell_type": "code",
      "metadata": {
        "id": "YNeoHryYyZSI"
      },
      "source": [
        "#Kolmogorov-Smirnov\n",
        "nn_ks = ks_2samp(df1.Actual-df1.Predicted,list(np.random.normal(np.mean(df1.Actual-df1.Predicted), np.std(df1.Actual-df1.Predicted), 1000)))[1]"
      ],
      "execution_count": 80,
      "outputs": []
    },
    {
      "cell_type": "markdown",
      "metadata": {
        "id": "suNWgxNGOcro"
      },
      "source": [
        "# Models scoring"
      ]
    },
    {
      "cell_type": "markdown",
      "metadata": {
        "id": "1rBE9L3SC9zs"
      },
      "source": [
        "Best model will be selected on RMSE and KS test p-value as we need normal distribution of residuals later on."
      ]
    },
    {
      "cell_type": "code",
      "metadata": {
        "id": "uWPMu6ITOelB",
        "outputId": "64a873a1-911f-4600-a959-41394f290be8",
        "colab": {
          "base_uri": "https://localhost:8080/",
          "height": 266
        }
      },
      "source": [
        "# create df for the results \n",
        "rmse = {'Model':['Linear_filter', 'Linear bw', 'Linear RFE', 'Ridge', \"Lasso\",\"kNN\",\"NN\"],\n",
        "        'RMSE':[filter_rmse, bw_rmse, rfe_rmse, ridge_rmse,lasso_rmse,knn_rmse,nn_rmse],\n",
        "        'KS':[filter_ks, bw_ks, rfe_ks, ridge_ks,lasso_ks,knn_ks,nn_ks]} \n",
        "  \n",
        "# Create DataFrame \n",
        "df = pd.DataFrame(rmse) \n",
        "  \n",
        "# Print the output. \n",
        "df"
      ],
      "execution_count": 81,
      "outputs": [
        {
          "output_type": "execute_result",
          "data": {
            "text/html": [
              "<div>\n",
              "<style scoped>\n",
              "    .dataframe tbody tr th:only-of-type {\n",
              "        vertical-align: middle;\n",
              "    }\n",
              "\n",
              "    .dataframe tbody tr th {\n",
              "        vertical-align: top;\n",
              "    }\n",
              "\n",
              "    .dataframe thead th {\n",
              "        text-align: right;\n",
              "    }\n",
              "</style>\n",
              "<table border=\"1\" class=\"dataframe\">\n",
              "  <thead>\n",
              "    <tr style=\"text-align: right;\">\n",
              "      <th></th>\n",
              "      <th>Model</th>\n",
              "      <th>RMSE</th>\n",
              "      <th>KS</th>\n",
              "    </tr>\n",
              "  </thead>\n",
              "  <tbody>\n",
              "    <tr>\n",
              "      <th>0</th>\n",
              "      <td>Linear_filter</td>\n",
              "      <td>1.132540</td>\n",
              "      <td>0.506903</td>\n",
              "    </tr>\n",
              "    <tr>\n",
              "      <th>1</th>\n",
              "      <td>Linear bw</td>\n",
              "      <td>1.688103</td>\n",
              "      <td>0.000005</td>\n",
              "    </tr>\n",
              "    <tr>\n",
              "      <th>2</th>\n",
              "      <td>Linear RFE</td>\n",
              "      <td>1.130336</td>\n",
              "      <td>0.406318</td>\n",
              "    </tr>\n",
              "    <tr>\n",
              "      <th>3</th>\n",
              "      <td>Ridge</td>\n",
              "      <td>1.120804</td>\n",
              "      <td>0.634971</td>\n",
              "    </tr>\n",
              "    <tr>\n",
              "      <th>4</th>\n",
              "      <td>Lasso</td>\n",
              "      <td>1.058469</td>\n",
              "      <td>0.707036</td>\n",
              "    </tr>\n",
              "    <tr>\n",
              "      <th>5</th>\n",
              "      <td>kNN</td>\n",
              "      <td>1.050002</td>\n",
              "      <td>0.039910</td>\n",
              "    </tr>\n",
              "    <tr>\n",
              "      <th>6</th>\n",
              "      <td>NN</td>\n",
              "      <td>1.192595</td>\n",
              "      <td>0.825545</td>\n",
              "    </tr>\n",
              "  </tbody>\n",
              "</table>\n",
              "</div>"
            ],
            "text/plain": [
              "           Model      RMSE        KS\n",
              "0  Linear_filter  1.132540  0.506903\n",
              "1      Linear bw  1.688103  0.000005\n",
              "2     Linear RFE  1.130336  0.406318\n",
              "3          Ridge  1.120804  0.634971\n",
              "4          Lasso  1.058469  0.707036\n",
              "5            kNN  1.050002  0.039910\n",
              "6             NN  1.192595  0.825545"
            ]
          },
          "metadata": {
            "tags": []
          },
          "execution_count": 81
        }
      ]
    },
    {
      "cell_type": "markdown",
      "metadata": {
        "id": "RKjwCJtJEm8r"
      },
      "source": [
        "All score are very close from each other. Result may probably vary from train/test split."
      ]
    },
    {
      "cell_type": "code",
      "metadata": {
        "id": "0YWOTPViQobz",
        "outputId": "eb932bbd-f85b-48c6-db32-b012099eda17",
        "colab": {
          "base_uri": "https://localhost:8080/",
          "height": 282
        }
      },
      "source": [
        "# ploting rmse score\n",
        "plt.figure(figsize=(9,4))\n",
        "plt.bar(df[\"Model\"],df[\"RMSE\"])\n",
        "plt.title(\"RMSE by model\")\n",
        "plt.show()"
      ],
      "execution_count": 82,
      "outputs": [
        {
          "output_type": "display_data",
          "data": {
            "image/png": "[encoded data removed]",
            "text/plain": [
              "<Figure size 648x288 with 1 Axes>"
            ]
          },
          "metadata": {
            "tags": [],
            "needs_background": "light"
          }
        }
      ]
    },
    {
      "cell_type": "code",
      "metadata": {
        "id": "aclA6tcPUZys",
        "outputId": "555338e5-2460-4d8c-9162-8f150fa6ffb5",
        "colab": {
          "base_uri": "https://localhost:8080/",
          "height": 282
        }
      },
      "source": [
        "# plotting KS p-value\n",
        "plt.figure(figsize=(9,4))\n",
        "plt.bar(df[\"Model\"],df[\"KS\"])\n",
        "plt.title(\"KS test p-value by model\")\n",
        "plt.show()"
      ],
      "execution_count": 83,
      "outputs": [
        {
          "output_type": "display_data",
          "data": {
            "image/png": "[encoded data removed]",
            "text/plain": [
              "<Figure size 648x288 with 1 Axes>"
            ]
          },
          "metadata": {
            "tags": [],
            "needs_background": "light"
          }
        }
      ]
    },
    {
      "cell_type": "markdown",
      "metadata": {
        "id": "cQJZuZ6pq1wQ"
      },
      "source": [
        "# In practice"
      ]
    },
    {
      "cell_type": "markdown",
      "metadata": {
        "id": "i7UuztQ3A9m8"
      },
      "source": [
        "We now will use one of the regression model we just build to predict RPE score for each observations.\n",
        "We will use an Statistical Process Control (SPC) approach.\n",
        "With normality of residuals, actual RPE score is expected to be in predicted RPE +/- error standar deviation 68% of the time.\n",
        "Outside upper and lower limit, actual RPE score is unexpected. In SPC specific \"rules\" can be used if unexpected values occurs to many times in a short period. \n"
      ]
    },
    {
      "cell_type": "code",
      "metadata": {
        "id": "j_FLn28lgp2i",
        "outputId": "e1f251c3-e4df-4e1d-c083-6e2c3d0e391b",
        "colab": {
          "base_uri": "https://localhost:8080/",
          "height": 34
        }
      },
      "source": [
        "# make prediction \n",
        "predicted = model.predict(data.drop(\"RPE\", axis = 1))\n",
        "\n",
        "# calculate standar deviation of error\n",
        "stdev = np.std(df1.Actual-df1.Predicted)\n",
        "print(stdev)"
      ],
      "execution_count": 84,
      "outputs": [
        {
          "output_type": "stream",
          "text": [
            "1.1073102714727558\n"
          ],
          "name": "stdout"
        }
      ]
    },
    {
      "cell_type": "code",
      "metadata": {
        "id": "jMzXAg9OsN2x",
        "outputId": "cdf75a9c-7d75-4ab5-9054-30e04f7f1a52",
        "colab": {
          "base_uri": "https://localhost:8080/",
          "height": 204
        }
      },
      "source": [
        "# prepare merging\n",
        "temp = data_full[(data_full[\"Day Code\"]!= \"Game day\") & (data_full[\"Day Code\"]!= \"Game\" )]\n",
        "temp = temp.reset_index()\n",
        "\n",
        "# calculate upper and lower limit for spc\n",
        "data[\"Predicted\"] = predicted\n",
        "data[\"lower_limit\"] = data[\"Predicted\"] - stdev\n",
        "data[\"upper_limit\"] = data[\"Predicted\"] + stdev\n",
        "\n",
        "data_rpe = data[[\"RPE\",\"lower_limit\",\"upper_limit\"]]\n",
        "\n",
        "# merge session data and rpe data\n",
        "data_rpe = pd.concat([temp[[\"Athlete\", \"Date\"]],data_rpe], axis = 1)\n",
        "data_rpe.head(5)"
      ],
      "execution_count": 85,
      "outputs": [
        {
          "output_type": "execute_result",
          "data": {
            "text/html": [
              "<div>\n",
              "<style scoped>\n",
              "    .dataframe tbody tr th:only-of-type {\n",
              "        vertical-align: middle;\n",
              "    }\n",
              "\n",
              "    .dataframe tbody tr th {\n",
              "        vertical-align: top;\n",
              "    }\n",
              "\n",
              "    .dataframe thead th {\n",
              "        text-align: right;\n",
              "    }\n",
              "</style>\n",
              "<table border=\"1\" class=\"dataframe\">\n",
              "  <thead>\n",
              "    <tr style=\"text-align: right;\">\n",
              "      <th></th>\n",
              "      <th>Athlete</th>\n",
              "      <th>Date</th>\n",
              "      <th>RPE</th>\n",
              "      <th>lower_limit</th>\n",
              "      <th>upper_limit</th>\n",
              "    </tr>\n",
              "  </thead>\n",
              "  <tbody>\n",
              "    <tr>\n",
              "      <th>0</th>\n",
              "      <td>athlete 1</td>\n",
              "      <td>2014-07-21T00:00:00Z</td>\n",
              "      <td>3.0</td>\n",
              "      <td>1.912716</td>\n",
              "      <td>4.127337</td>\n",
              "    </tr>\n",
              "    <tr>\n",
              "      <th>1</th>\n",
              "      <td>athlete 1</td>\n",
              "      <td>2014-07-21T00:00:00Z</td>\n",
              "      <td>7.0</td>\n",
              "      <td>6.145825</td>\n",
              "      <td>8.360445</td>\n",
              "    </tr>\n",
              "    <tr>\n",
              "      <th>2</th>\n",
              "      <td>athlete 1</td>\n",
              "      <td>2014-07-28T00:00:00Z</td>\n",
              "      <td>4.0</td>\n",
              "      <td>2.448326</td>\n",
              "      <td>4.662946</td>\n",
              "    </tr>\n",
              "    <tr>\n",
              "      <th>3</th>\n",
              "      <td>athlete 1</td>\n",
              "      <td>2014-07-28T00:00:00Z</td>\n",
              "      <td>5.0</td>\n",
              "      <td>3.466493</td>\n",
              "      <td>5.681113</td>\n",
              "    </tr>\n",
              "    <tr>\n",
              "      <th>4</th>\n",
              "      <td>athlete 1</td>\n",
              "      <td>2014-07-22T00:00:00Z</td>\n",
              "      <td>3.0</td>\n",
              "      <td>2.116048</td>\n",
              "      <td>4.330668</td>\n",
              "    </tr>\n",
              "  </tbody>\n",
              "</table>\n",
              "</div>"
            ],
            "text/plain": [
              "     Athlete                  Date  RPE  lower_limit  upper_limit\n",
              "0  athlete 1  2014-07-21T00:00:00Z  3.0     1.912716     4.127337\n",
              "1  athlete 1  2014-07-21T00:00:00Z  7.0     6.145825     8.360445\n",
              "2  athlete 1  2014-07-28T00:00:00Z  4.0     2.448326     4.662946\n",
              "3  athlete 1  2014-07-28T00:00:00Z  5.0     3.466493     5.681113\n",
              "4  athlete 1  2014-07-22T00:00:00Z  3.0     2.116048     4.330668"
            ]
          },
          "metadata": {
            "tags": []
          },
          "execution_count": 85
        }
      ]
    },
    {
      "cell_type": "code",
      "metadata": {
        "id": "p2Qat90aQ3sL",
        "outputId": "265f52d8-7899-44fa-d37a-b26143286b8f",
        "colab": {
          "base_uri": "https://localhost:8080/",
          "height": 298
        }
      },
      "source": [
        "# plotting histogram of error\n",
        "plt.hist(df1.Actual-df1.Predicted)\n",
        "plt.vlines(-stdev, 0,200, colors=\"r\", linestyles = \"dashed\")\n",
        "plt.vlines(stdev, 0,200, colors=\"r\", linestyles = \"dashed\")\n",
        "plt.title('Histogram of error')"
      ],
      "execution_count": 86,
      "outputs": [
        {
          "output_type": "execute_result",
          "data": {
            "text/plain": [
              "Text(0.5, 1.0, 'Histogram of error')"
            ]
          },
          "metadata": {
            "tags": []
          },
          "execution_count": 86
        },
        {
          "output_type": "display_data",
          "data": {
            "image/png": "[encoded data removed]",
            "text/plain": [
              "<Figure size 432x288 with 1 Axes>"
            ]
          },
          "metadata": {
            "tags": [],
            "needs_background": "light"
          }
        }
      ]
    },
    {
      "cell_type": "markdown",
      "metadata": {
        "id": "kLFZrxpiEXpb"
      },
      "source": [
        "# Dashboard\n"
      ]
    },
    {
      "cell_type": "markdown",
      "metadata": {
        "id": "aCxNjP7TtU9B"
      },
      "source": [
        "A dashboard can be find here -> https://datastudio.google.com/s/o77E-A0ciAA"
      ]
    }
  ]
}